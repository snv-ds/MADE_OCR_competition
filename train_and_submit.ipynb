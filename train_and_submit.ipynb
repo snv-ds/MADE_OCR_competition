{
  "nbformat": 4,
  "nbformat_minor": 0,
  "metadata": {
    "colab": {
      "name": "iter1.ipynb",
      "provenance": [],
      "collapsed_sections": [
        "65Rz58_C0s_Z",
        "Ujus-F7W6cRi"
      ],
      "toc_visible": true
    },
    "kernelspec": {
      "display_name": "Python 3",
      "language": "python",
      "name": "python3"
    },
    "language_info": {
      "codemirror_mode": {
        "name": "ipython",
        "version": 3
      },
      "file_extension": ".py",
      "mimetype": "text/x-python",
      "name": "python",
      "nbconvert_exporter": "python",
      "pygments_lexer": "ipython3",
      "version": "3.7.4"
    },
    "toc": {
      "base_numbering": 1,
      "nav_menu": {},
      "number_sections": true,
      "sideBar": true,
      "skip_h1_title": false,
      "title_cell": "Table of Contents",
      "title_sidebar": "Contents",
      "toc_cell": false,
      "toc_position": {},
      "toc_section_display": true,
      "toc_window_display": false
    },
    "varInspector": {
      "cols": {
        "lenName": 16,
        "lenType": 16,
        "lenVar": 40
      },
      "kernels_config": {
        "python": {
          "delete_cmd_postfix": "",
          "delete_cmd_prefix": "del ",
          "library": "var_list.py",
          "varRefreshCmd": "print(var_dic_list())"
        },
        "r": {
          "delete_cmd_postfix": ") ",
          "delete_cmd_prefix": "rm(",
          "library": "var_list.r",
          "varRefreshCmd": "cat(var_dic_list()) "
        }
      },
      "types_to_exclude": [
        "module",
        "function",
        "builtin_function_or_method",
        "instance",
        "_Feature"
      ],
      "window_display": false
    },
    "widgets": {
      "application/vnd.jupyter.widget-state+json": {
        "5281534e95c8443e8cdb8c525fcefb71": {
          "model_module": "@jupyter-widgets/controls",
          "model_name": "HBoxModel",
          "state": {
            "_view_name": "HBoxView",
            "_dom_classes": [],
            "_model_name": "HBoxModel",
            "_view_module": "@jupyter-widgets/controls",
            "_model_module_version": "1.5.0",
            "_view_count": null,
            "_view_module_version": "1.5.0",
            "box_style": "",
            "layout": "IPY_MODEL_70463daba8d04b089fa5f9aa07db0e2d",
            "_model_module": "@jupyter-widgets/controls",
            "children": [
              "IPY_MODEL_2fdd1c2f6ffc43e3b2e2db6a057f8fe2",
              "IPY_MODEL_238f9ac8a4f74318beda3d00a69400c2"
            ]
          }
        },
        "70463daba8d04b089fa5f9aa07db0e2d": {
          "model_module": "@jupyter-widgets/base",
          "model_name": "LayoutModel",
          "state": {
            "_view_name": "LayoutView",
            "grid_template_rows": null,
            "right": null,
            "justify_content": null,
            "_view_module": "@jupyter-widgets/base",
            "overflow": null,
            "_model_module_version": "1.2.0",
            "_view_count": null,
            "flex_flow": null,
            "width": null,
            "min_width": null,
            "border": null,
            "align_items": null,
            "bottom": null,
            "_model_module": "@jupyter-widgets/base",
            "top": null,
            "grid_column": null,
            "overflow_y": null,
            "overflow_x": null,
            "grid_auto_flow": null,
            "grid_area": null,
            "grid_template_columns": null,
            "flex": null,
            "_model_name": "LayoutModel",
            "justify_items": null,
            "grid_row": null,
            "max_height": null,
            "align_content": null,
            "visibility": null,
            "align_self": null,
            "height": null,
            "min_height": null,
            "padding": null,
            "grid_auto_rows": null,
            "grid_gap": null,
            "max_width": null,
            "order": null,
            "_view_module_version": "1.2.0",
            "grid_template_areas": null,
            "object_position": null,
            "object_fit": null,
            "grid_auto_columns": null,
            "margin": null,
            "display": null,
            "left": null
          }
        },
        "2fdd1c2f6ffc43e3b2e2db6a057f8fe2": {
          "model_module": "@jupyter-widgets/controls",
          "model_name": "FloatProgressModel",
          "state": {
            "_view_name": "ProgressView",
            "style": "IPY_MODEL_08a008dbfe994933998195ef306b9f50",
            "_dom_classes": [],
            "description": "100%",
            "_model_name": "FloatProgressModel",
            "bar_style": "success",
            "max": 25632,
            "_view_module": "@jupyter-widgets/controls",
            "_model_module_version": "1.5.0",
            "value": 25632,
            "_view_count": null,
            "_view_module_version": "1.5.0",
            "orientation": "horizontal",
            "min": 0,
            "description_tooltip": null,
            "_model_module": "@jupyter-widgets/controls",
            "layout": "IPY_MODEL_978797e1b8a7440b8c75dd59a6bc972c"
          }
        },
        "238f9ac8a4f74318beda3d00a69400c2": {
          "model_module": "@jupyter-widgets/controls",
          "model_name": "HTMLModel",
          "state": {
            "_view_name": "HTMLView",
            "style": "IPY_MODEL_2249bd46587a418b8ca11c4d63629989",
            "_dom_classes": [],
            "description": "",
            "_model_name": "HTMLModel",
            "placeholder": "​",
            "_view_module": "@jupyter-widgets/controls",
            "_model_module_version": "1.5.0",
            "value": " 25632/25632 [00:35&lt;00:00, 713.86it/s]",
            "_view_count": null,
            "_view_module_version": "1.5.0",
            "description_tooltip": null,
            "_model_module": "@jupyter-widgets/controls",
            "layout": "IPY_MODEL_a89a6991a3e8481c9e824d4aa07ca111"
          }
        },
        "08a008dbfe994933998195ef306b9f50": {
          "model_module": "@jupyter-widgets/controls",
          "model_name": "ProgressStyleModel",
          "state": {
            "_view_name": "StyleView",
            "_model_name": "ProgressStyleModel",
            "description_width": "initial",
            "_view_module": "@jupyter-widgets/base",
            "_model_module_version": "1.5.0",
            "_view_count": null,
            "_view_module_version": "1.2.0",
            "bar_color": null,
            "_model_module": "@jupyter-widgets/controls"
          }
        },
        "978797e1b8a7440b8c75dd59a6bc972c": {
          "model_module": "@jupyter-widgets/base",
          "model_name": "LayoutModel",
          "state": {
            "_view_name": "LayoutView",
            "grid_template_rows": null,
            "right": null,
            "justify_content": null,
            "_view_module": "@jupyter-widgets/base",
            "overflow": null,
            "_model_module_version": "1.2.0",
            "_view_count": null,
            "flex_flow": null,
            "width": null,
            "min_width": null,
            "border": null,
            "align_items": null,
            "bottom": null,
            "_model_module": "@jupyter-widgets/base",
            "top": null,
            "grid_column": null,
            "overflow_y": null,
            "overflow_x": null,
            "grid_auto_flow": null,
            "grid_area": null,
            "grid_template_columns": null,
            "flex": null,
            "_model_name": "LayoutModel",
            "justify_items": null,
            "grid_row": null,
            "max_height": null,
            "align_content": null,
            "visibility": null,
            "align_self": null,
            "height": null,
            "min_height": null,
            "padding": null,
            "grid_auto_rows": null,
            "grid_gap": null,
            "max_width": null,
            "order": null,
            "_view_module_version": "1.2.0",
            "grid_template_areas": null,
            "object_position": null,
            "object_fit": null,
            "grid_auto_columns": null,
            "margin": null,
            "display": null,
            "left": null
          }
        },
        "2249bd46587a418b8ca11c4d63629989": {
          "model_module": "@jupyter-widgets/controls",
          "model_name": "DescriptionStyleModel",
          "state": {
            "_view_name": "StyleView",
            "_model_name": "DescriptionStyleModel",
            "description_width": "",
            "_view_module": "@jupyter-widgets/base",
            "_model_module_version": "1.5.0",
            "_view_count": null,
            "_view_module_version": "1.2.0",
            "_model_module": "@jupyter-widgets/controls"
          }
        },
        "a89a6991a3e8481c9e824d4aa07ca111": {
          "model_module": "@jupyter-widgets/base",
          "model_name": "LayoutModel",
          "state": {
            "_view_name": "LayoutView",
            "grid_template_rows": null,
            "right": null,
            "justify_content": null,
            "_view_module": "@jupyter-widgets/base",
            "overflow": null,
            "_model_module_version": "1.2.0",
            "_view_count": null,
            "flex_flow": null,
            "width": null,
            "min_width": null,
            "border": null,
            "align_items": null,
            "bottom": null,
            "_model_module": "@jupyter-widgets/base",
            "top": null,
            "grid_column": null,
            "overflow_y": null,
            "overflow_x": null,
            "grid_auto_flow": null,
            "grid_area": null,
            "grid_template_columns": null,
            "flex": null,
            "_model_name": "LayoutModel",
            "justify_items": null,
            "grid_row": null,
            "max_height": null,
            "align_content": null,
            "visibility": null,
            "align_self": null,
            "height": null,
            "min_height": null,
            "padding": null,
            "grid_auto_rows": null,
            "grid_gap": null,
            "max_width": null,
            "order": null,
            "_view_module_version": "1.2.0",
            "grid_template_areas": null,
            "object_position": null,
            "object_fit": null,
            "grid_auto_columns": null,
            "margin": null,
            "display": null,
            "left": null
          }
        },
        "57dc63327f364507a31a55871a3197e8": {
          "model_module": "@jupyter-widgets/controls",
          "model_name": "HBoxModel",
          "state": {
            "_view_name": "HBoxView",
            "_dom_classes": [],
            "_model_name": "HBoxModel",
            "_view_module": "@jupyter-widgets/controls",
            "_model_module_version": "1.5.0",
            "_view_count": null,
            "_view_module_version": "1.5.0",
            "box_style": "",
            "layout": "IPY_MODEL_662ad9954c3a4619a15f75acfadb7535",
            "_model_module": "@jupyter-widgets/controls",
            "children": [
              "IPY_MODEL_8c5579042fc242f598ec83087d738176",
              "IPY_MODEL_6bbf09f7a6e1455c8096a905c5c24e76"
            ]
          }
        },
        "662ad9954c3a4619a15f75acfadb7535": {
          "model_module": "@jupyter-widgets/base",
          "model_name": "LayoutModel",
          "state": {
            "_view_name": "LayoutView",
            "grid_template_rows": null,
            "right": null,
            "justify_content": null,
            "_view_module": "@jupyter-widgets/base",
            "overflow": null,
            "_model_module_version": "1.2.0",
            "_view_count": null,
            "flex_flow": null,
            "width": null,
            "min_width": null,
            "border": null,
            "align_items": null,
            "bottom": null,
            "_model_module": "@jupyter-widgets/base",
            "top": null,
            "grid_column": null,
            "overflow_y": null,
            "overflow_x": null,
            "grid_auto_flow": null,
            "grid_area": null,
            "grid_template_columns": null,
            "flex": null,
            "_model_name": "LayoutModel",
            "justify_items": null,
            "grid_row": null,
            "max_height": null,
            "align_content": null,
            "visibility": null,
            "align_self": null,
            "height": null,
            "min_height": null,
            "padding": null,
            "grid_auto_rows": null,
            "grid_gap": null,
            "max_width": null,
            "order": null,
            "_view_module_version": "1.2.0",
            "grid_template_areas": null,
            "object_position": null,
            "object_fit": null,
            "grid_auto_columns": null,
            "margin": null,
            "display": null,
            "left": null
          }
        },
        "8c5579042fc242f598ec83087d738176": {
          "model_module": "@jupyter-widgets/controls",
          "model_name": "FloatProgressModel",
          "state": {
            "_view_name": "ProgressView",
            "style": "IPY_MODEL_d39d058512c042b09f4cf5088071bc6d",
            "_dom_classes": [],
            "description": "100%",
            "_model_name": "FloatProgressModel",
            "bar_style": "success",
            "max": 178090079,
            "_view_module": "@jupyter-widgets/controls",
            "_model_module_version": "1.5.0",
            "value": 178090079,
            "_view_count": null,
            "_view_module_version": "1.5.0",
            "orientation": "horizontal",
            "min": 0,
            "description_tooltip": null,
            "_model_module": "@jupyter-widgets/controls",
            "layout": "IPY_MODEL_416ba46f2b6a4de6828157f6e8a74f4e"
          }
        },
        "6bbf09f7a6e1455c8096a905c5c24e76": {
          "model_module": "@jupyter-widgets/controls",
          "model_name": "HTMLModel",
          "state": {
            "_view_name": "HTMLView",
            "style": "IPY_MODEL_0a56011b27824348ad0c13195e5b99d3",
            "_dom_classes": [],
            "description": "",
            "_model_name": "HTMLModel",
            "placeholder": "​",
            "_view_module": "@jupyter-widgets/controls",
            "_model_module_version": "1.5.0",
            "value": " 170M/170M [00:01&lt;00:00, 112MB/s]",
            "_view_count": null,
            "_view_module_version": "1.5.0",
            "description_tooltip": null,
            "_model_module": "@jupyter-widgets/controls",
            "layout": "IPY_MODEL_48931cc2a8ef4ac8bfdf18d9c5f443a0"
          }
        },
        "d39d058512c042b09f4cf5088071bc6d": {
          "model_module": "@jupyter-widgets/controls",
          "model_name": "ProgressStyleModel",
          "state": {
            "_view_name": "StyleView",
            "_model_name": "ProgressStyleModel",
            "description_width": "initial",
            "_view_module": "@jupyter-widgets/base",
            "_model_module_version": "1.5.0",
            "_view_count": null,
            "_view_module_version": "1.2.0",
            "bar_color": null,
            "_model_module": "@jupyter-widgets/controls"
          }
        },
        "416ba46f2b6a4de6828157f6e8a74f4e": {
          "model_module": "@jupyter-widgets/base",
          "model_name": "LayoutModel",
          "state": {
            "_view_name": "LayoutView",
            "grid_template_rows": null,
            "right": null,
            "justify_content": null,
            "_view_module": "@jupyter-widgets/base",
            "overflow": null,
            "_model_module_version": "1.2.0",
            "_view_count": null,
            "flex_flow": null,
            "width": null,
            "min_width": null,
            "border": null,
            "align_items": null,
            "bottom": null,
            "_model_module": "@jupyter-widgets/base",
            "top": null,
            "grid_column": null,
            "overflow_y": null,
            "overflow_x": null,
            "grid_auto_flow": null,
            "grid_area": null,
            "grid_template_columns": null,
            "flex": null,
            "_model_name": "LayoutModel",
            "justify_items": null,
            "grid_row": null,
            "max_height": null,
            "align_content": null,
            "visibility": null,
            "align_self": null,
            "height": null,
            "min_height": null,
            "padding": null,
            "grid_auto_rows": null,
            "grid_gap": null,
            "max_width": null,
            "order": null,
            "_view_module_version": "1.2.0",
            "grid_template_areas": null,
            "object_position": null,
            "object_fit": null,
            "grid_auto_columns": null,
            "margin": null,
            "display": null,
            "left": null
          }
        },
        "0a56011b27824348ad0c13195e5b99d3": {
          "model_module": "@jupyter-widgets/controls",
          "model_name": "DescriptionStyleModel",
          "state": {
            "_view_name": "StyleView",
            "_model_name": "DescriptionStyleModel",
            "description_width": "",
            "_view_module": "@jupyter-widgets/base",
            "_model_module_version": "1.5.0",
            "_view_count": null,
            "_view_module_version": "1.2.0",
            "_model_module": "@jupyter-widgets/controls"
          }
        },
        "48931cc2a8ef4ac8bfdf18d9c5f443a0": {
          "model_module": "@jupyter-widgets/base",
          "model_name": "LayoutModel",
          "state": {
            "_view_name": "LayoutView",
            "grid_template_rows": null,
            "right": null,
            "justify_content": null,
            "_view_module": "@jupyter-widgets/base",
            "overflow": null,
            "_model_module_version": "1.2.0",
            "_view_count": null,
            "flex_flow": null,
            "width": null,
            "min_width": null,
            "border": null,
            "align_items": null,
            "bottom": null,
            "_model_module": "@jupyter-widgets/base",
            "top": null,
            "grid_column": null,
            "overflow_y": null,
            "overflow_x": null,
            "grid_auto_flow": null,
            "grid_area": null,
            "grid_template_columns": null,
            "flex": null,
            "_model_name": "LayoutModel",
            "justify_items": null,
            "grid_row": null,
            "max_height": null,
            "align_content": null,
            "visibility": null,
            "align_self": null,
            "height": null,
            "min_height": null,
            "padding": null,
            "grid_auto_rows": null,
            "grid_gap": null,
            "max_width": null,
            "order": null,
            "_view_module_version": "1.2.0",
            "grid_template_areas": null,
            "object_position": null,
            "object_fit": null,
            "grid_auto_columns": null,
            "margin": null,
            "display": null,
            "left": null
          }
        },
        "7d38ec0bf28e497cbe04fd865ebb566f": {
          "model_module": "@jupyter-widgets/controls",
          "model_name": "HBoxModel",
          "state": {
            "_view_name": "HBoxView",
            "_dom_classes": [],
            "_model_name": "HBoxModel",
            "_view_module": "@jupyter-widgets/controls",
            "_model_module_version": "1.5.0",
            "_view_count": null,
            "_view_module_version": "1.5.0",
            "box_style": "",
            "layout": "IPY_MODEL_1f591ab49e4e4473acef30e1dc7ee38b",
            "_model_module": "@jupyter-widgets/controls",
            "children": [
              "IPY_MODEL_40a4d71a73d9403b99c7922f00499752",
              "IPY_MODEL_79ee4e44fdd349a58d238fb503a0d886"
            ]
          }
        },
        "1f591ab49e4e4473acef30e1dc7ee38b": {
          "model_module": "@jupyter-widgets/base",
          "model_name": "LayoutModel",
          "state": {
            "_view_name": "LayoutView",
            "grid_template_rows": null,
            "right": null,
            "justify_content": null,
            "_view_module": "@jupyter-widgets/base",
            "overflow": null,
            "_model_module_version": "1.2.0",
            "_view_count": null,
            "flex_flow": null,
            "width": null,
            "min_width": null,
            "border": null,
            "align_items": null,
            "bottom": null,
            "_model_module": "@jupyter-widgets/base",
            "top": null,
            "grid_column": null,
            "overflow_y": null,
            "overflow_x": null,
            "grid_auto_flow": null,
            "grid_area": null,
            "grid_template_columns": null,
            "flex": null,
            "_model_name": "LayoutModel",
            "justify_items": null,
            "grid_row": null,
            "max_height": null,
            "align_content": null,
            "visibility": null,
            "align_self": null,
            "height": null,
            "min_height": null,
            "padding": null,
            "grid_auto_rows": null,
            "grid_gap": null,
            "max_width": null,
            "order": null,
            "_view_module_version": "1.2.0",
            "grid_template_areas": null,
            "object_position": null,
            "object_fit": null,
            "grid_auto_columns": null,
            "margin": null,
            "display": null,
            "left": null
          }
        },
        "40a4d71a73d9403b99c7922f00499752": {
          "model_module": "@jupyter-widgets/controls",
          "model_name": "FloatProgressModel",
          "state": {
            "_view_name": "ProgressView",
            "style": "IPY_MODEL_da5d65a9afae468abbb177f89b7c5024",
            "_dom_classes": [],
            "description": "100%",
            "_model_name": "FloatProgressModel",
            "bar_style": "",
            "max": 3188,
            "_view_module": "@jupyter-widgets/controls",
            "_model_module_version": "1.5.0",
            "value": 3188,
            "_view_count": null,
            "_view_module_version": "1.5.0",
            "orientation": "horizontal",
            "min": 0,
            "description_tooltip": null,
            "_model_module": "@jupyter-widgets/controls",
            "layout": "IPY_MODEL_74038a4dc9c24ff0bf215fe3ba5dc2d6"
          }
        },
        "79ee4e44fdd349a58d238fb503a0d886": {
          "model_module": "@jupyter-widgets/controls",
          "model_name": "HTMLModel",
          "state": {
            "_view_name": "HTMLView",
            "style": "IPY_MODEL_dbfe49e983834eabbda96e26eaa257bf",
            "_dom_classes": [],
            "description": "",
            "_model_name": "HTMLModel",
            "placeholder": "​",
            "_view_module": "@jupyter-widgets/controls",
            "_model_module_version": "1.5.0",
            "value": " 3188/3188 [06:16&lt;00:00,  8.38it/s]",
            "_view_count": null,
            "_view_module_version": "1.5.0",
            "description_tooltip": null,
            "_model_module": "@jupyter-widgets/controls",
            "layout": "IPY_MODEL_baf856fbe61143d5a211aa563ce2348a"
          }
        },
        "da5d65a9afae468abbb177f89b7c5024": {
          "model_module": "@jupyter-widgets/controls",
          "model_name": "ProgressStyleModel",
          "state": {
            "_view_name": "StyleView",
            "_model_name": "ProgressStyleModel",
            "description_width": "initial",
            "_view_module": "@jupyter-widgets/base",
            "_model_module_version": "1.5.0",
            "_view_count": null,
            "_view_module_version": "1.2.0",
            "bar_color": null,
            "_model_module": "@jupyter-widgets/controls"
          }
        },
        "74038a4dc9c24ff0bf215fe3ba5dc2d6": {
          "model_module": "@jupyter-widgets/base",
          "model_name": "LayoutModel",
          "state": {
            "_view_name": "LayoutView",
            "grid_template_rows": null,
            "right": null,
            "justify_content": null,
            "_view_module": "@jupyter-widgets/base",
            "overflow": null,
            "_model_module_version": "1.2.0",
            "_view_count": null,
            "flex_flow": null,
            "width": null,
            "min_width": null,
            "border": null,
            "align_items": null,
            "bottom": null,
            "_model_module": "@jupyter-widgets/base",
            "top": null,
            "grid_column": null,
            "overflow_y": null,
            "overflow_x": null,
            "grid_auto_flow": null,
            "grid_area": null,
            "grid_template_columns": null,
            "flex": null,
            "_model_name": "LayoutModel",
            "justify_items": null,
            "grid_row": null,
            "max_height": null,
            "align_content": null,
            "visibility": null,
            "align_self": null,
            "height": null,
            "min_height": null,
            "padding": null,
            "grid_auto_rows": null,
            "grid_gap": null,
            "max_width": null,
            "order": null,
            "_view_module_version": "1.2.0",
            "grid_template_areas": null,
            "object_position": null,
            "object_fit": null,
            "grid_auto_columns": null,
            "margin": null,
            "display": null,
            "left": null
          }
        },
        "dbfe49e983834eabbda96e26eaa257bf": {
          "model_module": "@jupyter-widgets/controls",
          "model_name": "DescriptionStyleModel",
          "state": {
            "_view_name": "StyleView",
            "_model_name": "DescriptionStyleModel",
            "description_width": "",
            "_view_module": "@jupyter-widgets/base",
            "_model_module_version": "1.5.0",
            "_view_count": null,
            "_view_module_version": "1.2.0",
            "_model_module": "@jupyter-widgets/controls"
          }
        },
        "baf856fbe61143d5a211aa563ce2348a": {
          "model_module": "@jupyter-widgets/base",
          "model_name": "LayoutModel",
          "state": {
            "_view_name": "LayoutView",
            "grid_template_rows": null,
            "right": null,
            "justify_content": null,
            "_view_module": "@jupyter-widgets/base",
            "overflow": null,
            "_model_module_version": "1.2.0",
            "_view_count": null,
            "flex_flow": null,
            "width": null,
            "min_width": null,
            "border": null,
            "align_items": null,
            "bottom": null,
            "_model_module": "@jupyter-widgets/base",
            "top": null,
            "grid_column": null,
            "overflow_y": null,
            "overflow_x": null,
            "grid_auto_flow": null,
            "grid_area": null,
            "grid_template_columns": null,
            "flex": null,
            "_model_name": "LayoutModel",
            "justify_items": null,
            "grid_row": null,
            "max_height": null,
            "align_content": null,
            "visibility": null,
            "align_self": null,
            "height": null,
            "min_height": null,
            "padding": null,
            "grid_auto_rows": null,
            "grid_gap": null,
            "max_width": null,
            "order": null,
            "_view_module_version": "1.2.0",
            "grid_template_areas": null,
            "object_position": null,
            "object_fit": null,
            "grid_auto_columns": null,
            "margin": null,
            "display": null,
            "left": null
          }
        },
        "027acb1a2c6a42389507d2c14e163322": {
          "model_module": "@jupyter-widgets/controls",
          "model_name": "HBoxModel",
          "state": {
            "_view_name": "HBoxView",
            "_dom_classes": [],
            "_model_name": "HBoxModel",
            "_view_module": "@jupyter-widgets/controls",
            "_model_module_version": "1.5.0",
            "_view_count": null,
            "_view_module_version": "1.5.0",
            "box_style": "",
            "layout": "IPY_MODEL_179da08069c24230b2cd0b7a30d5b3c3",
            "_model_module": "@jupyter-widgets/controls",
            "children": [
              "IPY_MODEL_6063bc993cd04735a1fdd6a554abeea6",
              "IPY_MODEL_032c046b97d14b36ad2817cf1de0b3a9"
            ]
          }
        },
        "179da08069c24230b2cd0b7a30d5b3c3": {
          "model_module": "@jupyter-widgets/base",
          "model_name": "LayoutModel",
          "state": {
            "_view_name": "LayoutView",
            "grid_template_rows": null,
            "right": null,
            "justify_content": null,
            "_view_module": "@jupyter-widgets/base",
            "overflow": null,
            "_model_module_version": "1.2.0",
            "_view_count": null,
            "flex_flow": null,
            "width": null,
            "min_width": null,
            "border": null,
            "align_items": null,
            "bottom": null,
            "_model_module": "@jupyter-widgets/base",
            "top": null,
            "grid_column": null,
            "overflow_y": null,
            "overflow_x": null,
            "grid_auto_flow": null,
            "grid_area": null,
            "grid_template_columns": null,
            "flex": null,
            "_model_name": "LayoutModel",
            "justify_items": null,
            "grid_row": null,
            "max_height": null,
            "align_content": null,
            "visibility": null,
            "align_self": null,
            "height": null,
            "min_height": null,
            "padding": null,
            "grid_auto_rows": null,
            "grid_gap": null,
            "max_width": null,
            "order": null,
            "_view_module_version": "1.2.0",
            "grid_template_areas": null,
            "object_position": null,
            "object_fit": null,
            "grid_auto_columns": null,
            "margin": null,
            "display": null,
            "left": null
          }
        },
        "6063bc993cd04735a1fdd6a554abeea6": {
          "model_module": "@jupyter-widgets/controls",
          "model_name": "FloatProgressModel",
          "state": {
            "_view_name": "ProgressView",
            "style": "IPY_MODEL_a8b5d898f5374d599b6c4d18df099307",
            "_dom_classes": [],
            "description": "100%",
            "_model_name": "FloatProgressModel",
            "bar_style": "",
            "max": 3188,
            "_view_module": "@jupyter-widgets/controls",
            "_model_module_version": "1.5.0",
            "value": 3188,
            "_view_count": null,
            "_view_module_version": "1.5.0",
            "orientation": "horizontal",
            "min": 0,
            "description_tooltip": null,
            "_model_module": "@jupyter-widgets/controls",
            "layout": "IPY_MODEL_029bd410ba074aa2b9cb003ea8529788"
          }
        },
        "032c046b97d14b36ad2817cf1de0b3a9": {
          "model_module": "@jupyter-widgets/controls",
          "model_name": "HTMLModel",
          "state": {
            "_view_name": "HTMLView",
            "style": "IPY_MODEL_ad1fd1b2c50b40d3ac201dcd269a51b7",
            "_dom_classes": [],
            "description": "",
            "_model_name": "HTMLModel",
            "placeholder": "​",
            "_view_module": "@jupyter-widgets/controls",
            "_model_module_version": "1.5.0",
            "value": " 3188/3188 [01:55&lt;00:00, 25.15it/s]",
            "_view_count": null,
            "_view_module_version": "1.5.0",
            "description_tooltip": null,
            "_model_module": "@jupyter-widgets/controls",
            "layout": "IPY_MODEL_f84356b8319a4450b26b4b331aaa3f75"
          }
        },
        "a8b5d898f5374d599b6c4d18df099307": {
          "model_module": "@jupyter-widgets/controls",
          "model_name": "ProgressStyleModel",
          "state": {
            "_view_name": "StyleView",
            "_model_name": "ProgressStyleModel",
            "description_width": "initial",
            "_view_module": "@jupyter-widgets/base",
            "_model_module_version": "1.5.0",
            "_view_count": null,
            "_view_module_version": "1.2.0",
            "bar_color": null,
            "_model_module": "@jupyter-widgets/controls"
          }
        },
        "029bd410ba074aa2b9cb003ea8529788": {
          "model_module": "@jupyter-widgets/base",
          "model_name": "LayoutModel",
          "state": {
            "_view_name": "LayoutView",
            "grid_template_rows": null,
            "right": null,
            "justify_content": null,
            "_view_module": "@jupyter-widgets/base",
            "overflow": null,
            "_model_module_version": "1.2.0",
            "_view_count": null,
            "flex_flow": null,
            "width": null,
            "min_width": null,
            "border": null,
            "align_items": null,
            "bottom": null,
            "_model_module": "@jupyter-widgets/base",
            "top": null,
            "grid_column": null,
            "overflow_y": null,
            "overflow_x": null,
            "grid_auto_flow": null,
            "grid_area": null,
            "grid_template_columns": null,
            "flex": null,
            "_model_name": "LayoutModel",
            "justify_items": null,
            "grid_row": null,
            "max_height": null,
            "align_content": null,
            "visibility": null,
            "align_self": null,
            "height": null,
            "min_height": null,
            "padding": null,
            "grid_auto_rows": null,
            "grid_gap": null,
            "max_width": null,
            "order": null,
            "_view_module_version": "1.2.0",
            "grid_template_areas": null,
            "object_position": null,
            "object_fit": null,
            "grid_auto_columns": null,
            "margin": null,
            "display": null,
            "left": null
          }
        },
        "ad1fd1b2c50b40d3ac201dcd269a51b7": {
          "model_module": "@jupyter-widgets/controls",
          "model_name": "DescriptionStyleModel",
          "state": {
            "_view_name": "StyleView",
            "_model_name": "DescriptionStyleModel",
            "description_width": "",
            "_view_module": "@jupyter-widgets/base",
            "_model_module_version": "1.5.0",
            "_view_count": null,
            "_view_module_version": "1.2.0",
            "_model_module": "@jupyter-widgets/controls"
          }
        },
        "f84356b8319a4450b26b4b331aaa3f75": {
          "model_module": "@jupyter-widgets/base",
          "model_name": "LayoutModel",
          "state": {
            "_view_name": "LayoutView",
            "grid_template_rows": null,
            "right": null,
            "justify_content": null,
            "_view_module": "@jupyter-widgets/base",
            "overflow": null,
            "_model_module_version": "1.2.0",
            "_view_count": null,
            "flex_flow": null,
            "width": null,
            "min_width": null,
            "border": null,
            "align_items": null,
            "bottom": null,
            "_model_module": "@jupyter-widgets/base",
            "top": null,
            "grid_column": null,
            "overflow_y": null,
            "overflow_x": null,
            "grid_auto_flow": null,
            "grid_area": null,
            "grid_template_columns": null,
            "flex": null,
            "_model_name": "LayoutModel",
            "justify_items": null,
            "grid_row": null,
            "max_height": null,
            "align_content": null,
            "visibility": null,
            "align_self": null,
            "height": null,
            "min_height": null,
            "padding": null,
            "grid_auto_rows": null,
            "grid_gap": null,
            "max_width": null,
            "order": null,
            "_view_module_version": "1.2.0",
            "grid_template_areas": null,
            "object_position": null,
            "object_fit": null,
            "grid_auto_columns": null,
            "margin": null,
            "display": null,
            "left": null
          }
        },
        "06c1de5914a3457f89e470cdbac96eea": {
          "model_module": "@jupyter-widgets/controls",
          "model_name": "HBoxModel",
          "state": {
            "_view_name": "HBoxView",
            "_dom_classes": [],
            "_model_name": "HBoxModel",
            "_view_module": "@jupyter-widgets/controls",
            "_model_module_version": "1.5.0",
            "_view_count": null,
            "_view_module_version": "1.5.0",
            "box_style": "",
            "layout": "IPY_MODEL_5b5aa32d9785428fa8fbe3eb29f14305",
            "_model_module": "@jupyter-widgets/controls",
            "children": [
              "IPY_MODEL_52c1270c630441a9b857eb9ea90fbb61",
              "IPY_MODEL_c7f1856e5073436a823397a005f1ca44"
            ]
          }
        },
        "5b5aa32d9785428fa8fbe3eb29f14305": {
          "model_module": "@jupyter-widgets/base",
          "model_name": "LayoutModel",
          "state": {
            "_view_name": "LayoutView",
            "grid_template_rows": null,
            "right": null,
            "justify_content": null,
            "_view_module": "@jupyter-widgets/base",
            "overflow": null,
            "_model_module_version": "1.2.0",
            "_view_count": null,
            "flex_flow": null,
            "width": null,
            "min_width": null,
            "border": null,
            "align_items": null,
            "bottom": null,
            "_model_module": "@jupyter-widgets/base",
            "top": null,
            "grid_column": null,
            "overflow_y": null,
            "overflow_x": null,
            "grid_auto_flow": null,
            "grid_area": null,
            "grid_template_columns": null,
            "flex": null,
            "_model_name": "LayoutModel",
            "justify_items": null,
            "grid_row": null,
            "max_height": null,
            "align_content": null,
            "visibility": null,
            "align_self": null,
            "height": null,
            "min_height": null,
            "padding": null,
            "grid_auto_rows": null,
            "grid_gap": null,
            "max_width": null,
            "order": null,
            "_view_module_version": "1.2.0",
            "grid_template_areas": null,
            "object_position": null,
            "object_fit": null,
            "grid_auto_columns": null,
            "margin": null,
            "display": null,
            "left": null
          }
        },
        "52c1270c630441a9b857eb9ea90fbb61": {
          "model_module": "@jupyter-widgets/controls",
          "model_name": "FloatProgressModel",
          "state": {
            "_view_name": "ProgressView",
            "style": "IPY_MODEL_47f4b263d31f4c62875066c788a2cebd",
            "_dom_classes": [],
            "description": "100%",
            "_model_name": "FloatProgressModel",
            "bar_style": "success",
            "max": 713,
            "_view_module": "@jupyter-widgets/controls",
            "_model_module_version": "1.5.0",
            "value": 713,
            "_view_count": null,
            "_view_module_version": "1.5.0",
            "orientation": "horizontal",
            "min": 0,
            "description_tooltip": null,
            "_model_module": "@jupyter-widgets/controls",
            "layout": "IPY_MODEL_b94d54749da5475e995fb75ede53e6cc"
          }
        },
        "c7f1856e5073436a823397a005f1ca44": {
          "model_module": "@jupyter-widgets/controls",
          "model_name": "HTMLModel",
          "state": {
            "_view_name": "HTMLView",
            "style": "IPY_MODEL_b56358c929674c7494135bc8f011f22d",
            "_dom_classes": [],
            "description": "",
            "_model_name": "HTMLModel",
            "placeholder": "​",
            "_view_module": "@jupyter-widgets/controls",
            "_model_module_version": "1.5.0",
            "value": " 713/713 [00:30&lt;00:00, 23.07it/s]",
            "_view_count": null,
            "_view_module_version": "1.5.0",
            "description_tooltip": null,
            "_model_module": "@jupyter-widgets/controls",
            "layout": "IPY_MODEL_10e4afb20b32403cb55d306c5a030a49"
          }
        },
        "47f4b263d31f4c62875066c788a2cebd": {
          "model_module": "@jupyter-widgets/controls",
          "model_name": "ProgressStyleModel",
          "state": {
            "_view_name": "StyleView",
            "_model_name": "ProgressStyleModel",
            "description_width": "initial",
            "_view_module": "@jupyter-widgets/base",
            "_model_module_version": "1.5.0",
            "_view_count": null,
            "_view_module_version": "1.2.0",
            "bar_color": null,
            "_model_module": "@jupyter-widgets/controls"
          }
        },
        "b94d54749da5475e995fb75ede53e6cc": {
          "model_module": "@jupyter-widgets/base",
          "model_name": "LayoutModel",
          "state": {
            "_view_name": "LayoutView",
            "grid_template_rows": null,
            "right": null,
            "justify_content": null,
            "_view_module": "@jupyter-widgets/base",
            "overflow": null,
            "_model_module_version": "1.2.0",
            "_view_count": null,
            "flex_flow": null,
            "width": null,
            "min_width": null,
            "border": null,
            "align_items": null,
            "bottom": null,
            "_model_module": "@jupyter-widgets/base",
            "top": null,
            "grid_column": null,
            "overflow_y": null,
            "overflow_x": null,
            "grid_auto_flow": null,
            "grid_area": null,
            "grid_template_columns": null,
            "flex": null,
            "_model_name": "LayoutModel",
            "justify_items": null,
            "grid_row": null,
            "max_height": null,
            "align_content": null,
            "visibility": null,
            "align_self": null,
            "height": null,
            "min_height": null,
            "padding": null,
            "grid_auto_rows": null,
            "grid_gap": null,
            "max_width": null,
            "order": null,
            "_view_module_version": "1.2.0",
            "grid_template_areas": null,
            "object_position": null,
            "object_fit": null,
            "grid_auto_columns": null,
            "margin": null,
            "display": null,
            "left": null
          }
        },
        "b56358c929674c7494135bc8f011f22d": {
          "model_module": "@jupyter-widgets/controls",
          "model_name": "DescriptionStyleModel",
          "state": {
            "_view_name": "StyleView",
            "_model_name": "DescriptionStyleModel",
            "description_width": "",
            "_view_module": "@jupyter-widgets/base",
            "_model_module_version": "1.5.0",
            "_view_count": null,
            "_view_module_version": "1.2.0",
            "_model_module": "@jupyter-widgets/controls"
          }
        },
        "10e4afb20b32403cb55d306c5a030a49": {
          "model_module": "@jupyter-widgets/base",
          "model_name": "LayoutModel",
          "state": {
            "_view_name": "LayoutView",
            "grid_template_rows": null,
            "right": null,
            "justify_content": null,
            "_view_module": "@jupyter-widgets/base",
            "overflow": null,
            "_model_module_version": "1.2.0",
            "_view_count": null,
            "flex_flow": null,
            "width": null,
            "min_width": null,
            "border": null,
            "align_items": null,
            "bottom": null,
            "_model_module": "@jupyter-widgets/base",
            "top": null,
            "grid_column": null,
            "overflow_y": null,
            "overflow_x": null,
            "grid_auto_flow": null,
            "grid_area": null,
            "grid_template_columns": null,
            "flex": null,
            "_model_name": "LayoutModel",
            "justify_items": null,
            "grid_row": null,
            "max_height": null,
            "align_content": null,
            "visibility": null,
            "align_self": null,
            "height": null,
            "min_height": null,
            "padding": null,
            "grid_auto_rows": null,
            "grid_gap": null,
            "max_width": null,
            "order": null,
            "_view_module_version": "1.2.0",
            "grid_template_areas": null,
            "object_position": null,
            "object_fit": null,
            "grid_auto_columns": null,
            "margin": null,
            "display": null,
            "left": null
          }
        },
        "e10ef16e8d75464d982d02e588486c41": {
          "model_module": "@jupyter-widgets/controls",
          "model_name": "HBoxModel",
          "state": {
            "_view_name": "HBoxView",
            "_dom_classes": [],
            "_model_name": "HBoxModel",
            "_view_module": "@jupyter-widgets/controls",
            "_model_module_version": "1.5.0",
            "_view_count": null,
            "_view_module_version": "1.5.0",
            "box_style": "",
            "layout": "IPY_MODEL_e848d00a2061408e8994ef182229aafb",
            "_model_module": "@jupyter-widgets/controls",
            "children": [
              "IPY_MODEL_97cd704b2f4942e886a42235a7793e93",
              "IPY_MODEL_5396e2b17c6e431fb3fcf0f0ac7cb94f"
            ]
          }
        },
        "e848d00a2061408e8994ef182229aafb": {
          "model_module": "@jupyter-widgets/base",
          "model_name": "LayoutModel",
          "state": {
            "_view_name": "LayoutView",
            "grid_template_rows": null,
            "right": null,
            "justify_content": null,
            "_view_module": "@jupyter-widgets/base",
            "overflow": null,
            "_model_module_version": "1.2.0",
            "_view_count": null,
            "flex_flow": null,
            "width": null,
            "min_width": null,
            "border": null,
            "align_items": null,
            "bottom": null,
            "_model_module": "@jupyter-widgets/base",
            "top": null,
            "grid_column": null,
            "overflow_y": null,
            "overflow_x": null,
            "grid_auto_flow": null,
            "grid_area": null,
            "grid_template_columns": null,
            "flex": null,
            "_model_name": "LayoutModel",
            "justify_items": null,
            "grid_row": null,
            "max_height": null,
            "align_content": null,
            "visibility": null,
            "align_self": null,
            "height": null,
            "min_height": null,
            "padding": null,
            "grid_auto_rows": null,
            "grid_gap": null,
            "max_width": null,
            "order": null,
            "_view_module_version": "1.2.0",
            "grid_template_areas": null,
            "object_position": null,
            "object_fit": null,
            "grid_auto_columns": null,
            "margin": null,
            "display": null,
            "left": null
          }
        },
        "97cd704b2f4942e886a42235a7793e93": {
          "model_module": "@jupyter-widgets/controls",
          "model_name": "FloatProgressModel",
          "state": {
            "_view_name": "ProgressView",
            "style": "IPY_MODEL_e09a20c6da1f49159728cd8d3089ed91",
            "_dom_classes": [],
            "description": "100%",
            "_model_name": "FloatProgressModel",
            "bar_style": "success",
            "max": 713,
            "_view_module": "@jupyter-widgets/controls",
            "_model_module_version": "1.5.0",
            "value": 713,
            "_view_count": null,
            "_view_module_version": "1.5.0",
            "orientation": "horizontal",
            "min": 0,
            "description_tooltip": null,
            "_model_module": "@jupyter-widgets/controls",
            "layout": "IPY_MODEL_9236b26a454545f9adf1beefd9c1162e"
          }
        },
        "5396e2b17c6e431fb3fcf0f0ac7cb94f": {
          "model_module": "@jupyter-widgets/controls",
          "model_name": "HTMLModel",
          "state": {
            "_view_name": "HTMLView",
            "style": "IPY_MODEL_22fb83b188c54b29b020cbed1497f50c",
            "_dom_classes": [],
            "description": "",
            "_model_name": "HTMLModel",
            "placeholder": "​",
            "_view_module": "@jupyter-widgets/controls",
            "_model_module_version": "1.5.0",
            "value": " 713/713 [00:02&lt;00:00, 242.66it/s]",
            "_view_count": null,
            "_view_module_version": "1.5.0",
            "description_tooltip": null,
            "_model_module": "@jupyter-widgets/controls",
            "layout": "IPY_MODEL_1d820690799c44eba2df5e9ebd12a646"
          }
        },
        "e09a20c6da1f49159728cd8d3089ed91": {
          "model_module": "@jupyter-widgets/controls",
          "model_name": "ProgressStyleModel",
          "state": {
            "_view_name": "StyleView",
            "_model_name": "ProgressStyleModel",
            "description_width": "initial",
            "_view_module": "@jupyter-widgets/base",
            "_model_module_version": "1.5.0",
            "_view_count": null,
            "_view_module_version": "1.2.0",
            "bar_color": null,
            "_model_module": "@jupyter-widgets/controls"
          }
        },
        "9236b26a454545f9adf1beefd9c1162e": {
          "model_module": "@jupyter-widgets/base",
          "model_name": "LayoutModel",
          "state": {
            "_view_name": "LayoutView",
            "grid_template_rows": null,
            "right": null,
            "justify_content": null,
            "_view_module": "@jupyter-widgets/base",
            "overflow": null,
            "_model_module_version": "1.2.0",
            "_view_count": null,
            "flex_flow": null,
            "width": null,
            "min_width": null,
            "border": null,
            "align_items": null,
            "bottom": null,
            "_model_module": "@jupyter-widgets/base",
            "top": null,
            "grid_column": null,
            "overflow_y": null,
            "overflow_x": null,
            "grid_auto_flow": null,
            "grid_area": null,
            "grid_template_columns": null,
            "flex": null,
            "_model_name": "LayoutModel",
            "justify_items": null,
            "grid_row": null,
            "max_height": null,
            "align_content": null,
            "visibility": null,
            "align_self": null,
            "height": null,
            "min_height": null,
            "padding": null,
            "grid_auto_rows": null,
            "grid_gap": null,
            "max_width": null,
            "order": null,
            "_view_module_version": "1.2.0",
            "grid_template_areas": null,
            "object_position": null,
            "object_fit": null,
            "grid_auto_columns": null,
            "margin": null,
            "display": null,
            "left": null
          }
        },
        "22fb83b188c54b29b020cbed1497f50c": {
          "model_module": "@jupyter-widgets/controls",
          "model_name": "DescriptionStyleModel",
          "state": {
            "_view_name": "StyleView",
            "_model_name": "DescriptionStyleModel",
            "description_width": "",
            "_view_module": "@jupyter-widgets/base",
            "_model_module_version": "1.5.0",
            "_view_count": null,
            "_view_module_version": "1.2.0",
            "_model_module": "@jupyter-widgets/controls"
          }
        },
        "1d820690799c44eba2df5e9ebd12a646": {
          "model_module": "@jupyter-widgets/base",
          "model_name": "LayoutModel",
          "state": {
            "_view_name": "LayoutView",
            "grid_template_rows": null,
            "right": null,
            "justify_content": null,
            "_view_module": "@jupyter-widgets/base",
            "overflow": null,
            "_model_module_version": "1.2.0",
            "_view_count": null,
            "flex_flow": null,
            "width": null,
            "min_width": null,
            "border": null,
            "align_items": null,
            "bottom": null,
            "_model_module": "@jupyter-widgets/base",
            "top": null,
            "grid_column": null,
            "overflow_y": null,
            "overflow_x": null,
            "grid_auto_flow": null,
            "grid_area": null,
            "grid_template_columns": null,
            "flex": null,
            "_model_name": "LayoutModel",
            "justify_items": null,
            "grid_row": null,
            "max_height": null,
            "align_content": null,
            "visibility": null,
            "align_self": null,
            "height": null,
            "min_height": null,
            "padding": null,
            "grid_auto_rows": null,
            "grid_gap": null,
            "max_width": null,
            "order": null,
            "_view_module_version": "1.2.0",
            "grid_template_areas": null,
            "object_position": null,
            "object_fit": null,
            "grid_auto_columns": null,
            "margin": null,
            "display": null,
            "left": null
          }
        },
        "004e399896334d01b267af791f43f10b": {
          "model_module": "@jupyter-widgets/controls",
          "model_name": "HBoxModel",
          "state": {
            "_view_name": "HBoxView",
            "_dom_classes": [],
            "_model_name": "HBoxModel",
            "_view_module": "@jupyter-widgets/controls",
            "_model_module_version": "1.5.0",
            "_view_count": null,
            "_view_module_version": "1.5.0",
            "box_style": "",
            "layout": "IPY_MODEL_7dbb0b7a8d4b434c98cab06c44a4b32d",
            "_model_module": "@jupyter-widgets/controls",
            "children": [
              "IPY_MODEL_b34b6ba2d0334dbeacd89fdeb361b8a0",
              "IPY_MODEL_c3826c26f782482a83b7f3df418e8f9b"
            ]
          }
        },
        "7dbb0b7a8d4b434c98cab06c44a4b32d": {
          "model_module": "@jupyter-widgets/base",
          "model_name": "LayoutModel",
          "state": {
            "_view_name": "LayoutView",
            "grid_template_rows": null,
            "right": null,
            "justify_content": null,
            "_view_module": "@jupyter-widgets/base",
            "overflow": null,
            "_model_module_version": "1.2.0",
            "_view_count": null,
            "flex_flow": null,
            "width": null,
            "min_width": null,
            "border": null,
            "align_items": null,
            "bottom": null,
            "_model_module": "@jupyter-widgets/base",
            "top": null,
            "grid_column": null,
            "overflow_y": null,
            "overflow_x": null,
            "grid_auto_flow": null,
            "grid_area": null,
            "grid_template_columns": null,
            "flex": null,
            "_model_name": "LayoutModel",
            "justify_items": null,
            "grid_row": null,
            "max_height": null,
            "align_content": null,
            "visibility": null,
            "align_self": null,
            "height": null,
            "min_height": null,
            "padding": null,
            "grid_auto_rows": null,
            "grid_gap": null,
            "max_width": null,
            "order": null,
            "_view_module_version": "1.2.0",
            "grid_template_areas": null,
            "object_position": null,
            "object_fit": null,
            "grid_auto_columns": null,
            "margin": null,
            "display": null,
            "left": null
          }
        },
        "b34b6ba2d0334dbeacd89fdeb361b8a0": {
          "model_module": "@jupyter-widgets/controls",
          "model_name": "FloatProgressModel",
          "state": {
            "_view_name": "ProgressView",
            "style": "IPY_MODEL_56998599b0044d0e84f900aef36a6166",
            "_dom_classes": [],
            "description": "100%",
            "_model_name": "FloatProgressModel",
            "bar_style": "success",
            "max": 713,
            "_view_module": "@jupyter-widgets/controls",
            "_model_module_version": "1.5.0",
            "value": 713,
            "_view_count": null,
            "_view_module_version": "1.5.0",
            "orientation": "horizontal",
            "min": 0,
            "description_tooltip": null,
            "_model_module": "@jupyter-widgets/controls",
            "layout": "IPY_MODEL_3fef49f933214c078770bf3632fab21e"
          }
        },
        "c3826c26f782482a83b7f3df418e8f9b": {
          "model_module": "@jupyter-widgets/controls",
          "model_name": "HTMLModel",
          "state": {
            "_view_name": "HTMLView",
            "style": "IPY_MODEL_030590d2c023456eb49127d442c76a5d",
            "_dom_classes": [],
            "description": "",
            "_model_name": "HTMLModel",
            "placeholder": "​",
            "_view_module": "@jupyter-widgets/controls",
            "_model_module_version": "1.5.0",
            "value": " 713/713 [00:27&lt;00:00, 25.52it/s]",
            "_view_count": null,
            "_view_module_version": "1.5.0",
            "description_tooltip": null,
            "_model_module": "@jupyter-widgets/controls",
            "layout": "IPY_MODEL_4eb4a8fddbe148b8ad383e5684f13b3b"
          }
        },
        "56998599b0044d0e84f900aef36a6166": {
          "model_module": "@jupyter-widgets/controls",
          "model_name": "ProgressStyleModel",
          "state": {
            "_view_name": "StyleView",
            "_model_name": "ProgressStyleModel",
            "description_width": "initial",
            "_view_module": "@jupyter-widgets/base",
            "_model_module_version": "1.5.0",
            "_view_count": null,
            "_view_module_version": "1.2.0",
            "bar_color": null,
            "_model_module": "@jupyter-widgets/controls"
          }
        },
        "3fef49f933214c078770bf3632fab21e": {
          "model_module": "@jupyter-widgets/base",
          "model_name": "LayoutModel",
          "state": {
            "_view_name": "LayoutView",
            "grid_template_rows": null,
            "right": null,
            "justify_content": null,
            "_view_module": "@jupyter-widgets/base",
            "overflow": null,
            "_model_module_version": "1.2.0",
            "_view_count": null,
            "flex_flow": null,
            "width": null,
            "min_width": null,
            "border": null,
            "align_items": null,
            "bottom": null,
            "_model_module": "@jupyter-widgets/base",
            "top": null,
            "grid_column": null,
            "overflow_y": null,
            "overflow_x": null,
            "grid_auto_flow": null,
            "grid_area": null,
            "grid_template_columns": null,
            "flex": null,
            "_model_name": "LayoutModel",
            "justify_items": null,
            "grid_row": null,
            "max_height": null,
            "align_content": null,
            "visibility": null,
            "align_self": null,
            "height": null,
            "min_height": null,
            "padding": null,
            "grid_auto_rows": null,
            "grid_gap": null,
            "max_width": null,
            "order": null,
            "_view_module_version": "1.2.0",
            "grid_template_areas": null,
            "object_position": null,
            "object_fit": null,
            "grid_auto_columns": null,
            "margin": null,
            "display": null,
            "left": null
          }
        },
        "030590d2c023456eb49127d442c76a5d": {
          "model_module": "@jupyter-widgets/controls",
          "model_name": "DescriptionStyleModel",
          "state": {
            "_view_name": "StyleView",
            "_model_name": "DescriptionStyleModel",
            "description_width": "",
            "_view_module": "@jupyter-widgets/base",
            "_model_module_version": "1.5.0",
            "_view_count": null,
            "_view_module_version": "1.2.0",
            "_model_module": "@jupyter-widgets/controls"
          }
        },
        "4eb4a8fddbe148b8ad383e5684f13b3b": {
          "model_module": "@jupyter-widgets/base",
          "model_name": "LayoutModel",
          "state": {
            "_view_name": "LayoutView",
            "grid_template_rows": null,
            "right": null,
            "justify_content": null,
            "_view_module": "@jupyter-widgets/base",
            "overflow": null,
            "_model_module_version": "1.2.0",
            "_view_count": null,
            "flex_flow": null,
            "width": null,
            "min_width": null,
            "border": null,
            "align_items": null,
            "bottom": null,
            "_model_module": "@jupyter-widgets/base",
            "top": null,
            "grid_column": null,
            "overflow_y": null,
            "overflow_x": null,
            "grid_auto_flow": null,
            "grid_area": null,
            "grid_template_columns": null,
            "flex": null,
            "_model_name": "LayoutModel",
            "justify_items": null,
            "grid_row": null,
            "max_height": null,
            "align_content": null,
            "visibility": null,
            "align_self": null,
            "height": null,
            "min_height": null,
            "padding": null,
            "grid_auto_rows": null,
            "grid_gap": null,
            "max_width": null,
            "order": null,
            "_view_module_version": "1.2.0",
            "grid_template_areas": null,
            "object_position": null,
            "object_fit": null,
            "grid_auto_columns": null,
            "margin": null,
            "display": null,
            "left": null
          }
        }
      }
    },
    "accelerator": "GPU"
  },
  "cells": [
    {
      "cell_type": "markdown",
      "metadata": {
        "id": "yGSpiMsBEeoC",
        "colab_type": "text"
      },
      "source": [
        "# Import data"
      ]
    },
    {
      "cell_type": "code",
      "metadata": {
        "id": "xpLo_QXH69LI",
        "colab_type": "code",
        "colab": {}
      },
      "source": [
        "from google.colab import files\n",
        "files.upload()"
      ],
      "execution_count": null,
      "outputs": []
    },
    {
      "cell_type": "code",
      "metadata": {
        "colab_type": "code",
        "id": "YKWo4NQueqHe",
        "colab": {
          "base_uri": "https://localhost:8080/",
          "height": 119
        },
        "outputId": "5e1ea091-0b93-42d0-bc2f-cc38cf3e1d9a"
      },
      "source": [
        "!ls -lha kaggle.json\n",
        "!pip install -q kaggle\n",
        "!mkdir -p ~/.kaggle\n",
        "!cp kaggle.json ~/.kaggle/\n",
        "!chmod 600 ~/.kaggle/kaggle.json\n",
        "!kaggle datasets list --mine"
      ],
      "execution_count": null,
      "outputs": [
        {
          "output_type": "stream",
          "text": [
            "-rw-r--r-- 1 root root 62 Jun 14 19:19 kaggle.json\n",
            "Warning: Looks like you're using an outdated API Version, please consider updating (server 1.5.6 / client 1.5.4)\n",
            "ref                       title               size  lastUpdated          downloadCount  \n",
            "------------------------  -----------------  -----  -------------------  -------------  \n",
            "snv023/ocr-car-numbers    ocr car numbers      6GB  2020-05-17 04:30:41              6  \n",
            "snv023/generated-numbers  generated_numbers  103MB  2020-06-09 10:58:22              0  \n"
          ],
          "name": "stdout"
        }
      ]
    },
    {
      "cell_type": "code",
      "metadata": {
        "id": "nPOSg7hVTBmt",
        "colab_type": "code",
        "colab": {
          "base_uri": "https://localhost:8080/",
          "height": 119
        },
        "outputId": "06fb0b99-8a4e-4173-fd83-11c70e71bf1b"
      },
      "source": [
        "!kaggle datasets download -d snv023/ocr-car-numbers\n",
        "!kaggle datasets download -d snv023/generated-numbers"
      ],
      "execution_count": null,
      "outputs": [
        {
          "output_type": "stream",
          "text": [
            "Downloading ocr-car-numbers.zip to /content\n",
            "100% 6.04G/6.05G [02:12<00:00, 17.8MB/s]\n",
            "100% 6.05G/6.05G [02:12<00:00, 49.0MB/s]\n",
            "Downloading generated-numbers.zip to /content\n",
            " 94% 97.0M/103M [00:01<00:00, 53.3MB/s]\n",
            "100% 103M/103M [00:01<00:00, 72.8MB/s] \n"
          ],
          "name": "stdout"
        }
      ]
    },
    {
      "cell_type": "code",
      "metadata": {
        "id": "8sK9fdaCg0sA",
        "colab_type": "code",
        "colab": {}
      },
      "source": [
        "# it will take arpoximatly 4.5 minutes\n",
        "!unzip -q \"generated-numbers.zip\"\n",
        "!unzip -q \"ocr-car-numbers.zip\"\n",
        "!rm *.zip\n",
        "!rm data/train/25632.bmp"
      ],
      "execution_count": null,
      "outputs": []
    },
    {
      "cell_type": "code",
      "metadata": {
        "colab_type": "code",
        "id": "TZojWhUm2J_Y",
        "colab": {
          "base_uri": "https://localhost:8080/",
          "height": 34
        },
        "outputId": "d648ea71-0b17-4391-82ad-babbac53fe9d"
      },
      "source": [
        "!ls /content/data/test | wc -l"
      ],
      "execution_count": null,
      "outputs": [
        {
          "output_type": "stream",
          "text": [
            "3188\n"
          ],
          "name": "stdout"
        }
      ]
    },
    {
      "cell_type": "code",
      "metadata": {
        "colab_type": "code",
        "id": "0LJVPSar5Eiu",
        "colab": {
          "base_uri": "https://localhost:8080/",
          "height": 34
        },
        "outputId": "bfda366e-bfd6-4f50-c71a-7c98c60bde4a"
      },
      "source": [
        "!ls /content/data/train | wc -l"
      ],
      "execution_count": null,
      "outputs": [
        {
          "output_type": "stream",
          "text": [
            "25632\n"
          ],
          "name": "stdout"
        }
      ]
    },
    {
      "cell_type": "code",
      "metadata": {
        "id": "vopAWPTFy7UK",
        "colab_type": "code",
        "colab": {
          "base_uri": "https://localhost:8080/",
          "height": 34
        },
        "outputId": "044add7e-09f8-42a6-e47d-dd902f177063"
      },
      "source": [
        "!ls /content/generated_60k | wc -l"
      ],
      "execution_count": null,
      "outputs": [
        {
          "output_type": "stream",
          "text": [
            "59987\n"
          ],
          "name": "stdout"
        }
      ]
    },
    {
      "cell_type": "code",
      "metadata": {
        "id": "apYsD8doBFKG",
        "colab_type": "code",
        "colab": {}
      },
      "source": [
        "import json\n",
        "import os\n",
        "\n",
        "PATH_TO_DATA = 'data'\n",
        "\n",
        "with open(os.path.join(PATH_TO_DATA, 'train.json'), 'rb') as f:\n",
        "    j_file = json.load(f)\n",
        "\n",
        "for row in j_file:\n",
        "    if row['file'] == 'train/25632.bmp':\n",
        "        j_file.remove(row)\n",
        "    row['file'] = os.path.join(PATH_TO_DATA, row['file'])\n",
        "\n",
        "os.remove(os.path.join(PATH_TO_DATA, 'train.json'))\n",
        "\n",
        "with open(os.path.join(PATH_TO_DATA, 'train.json'), 'w') as f:\n",
        "    json.dump(j_file, f)"
      ],
      "execution_count": null,
      "outputs": []
    },
    {
      "cell_type": "code",
      "metadata": {
        "id": "hx4Ii8aC1q-O",
        "colab_type": "code",
        "colab": {
          "base_uri": "https://localhost:8080/",
          "height": 68
        },
        "outputId": "4f453572-7517-462d-aaf3-a0d411698068"
      },
      "source": [
        "j_file[0]"
      ],
      "execution_count": null,
      "outputs": [
        {
          "output_type": "execute_result",
          "data": {
            "text/plain": [
              "{'file': 'data/train/0.jpg',\n",
              " 'nums': [{'box': [[180, 889], [596, 951], [598, 1056], [185, 983]],\n",
              "   'text': 'B060BB125'}]}"
            ]
          },
          "metadata": {
            "tags": []
          },
          "execution_count": 13
        }
      ]
    },
    {
      "cell_type": "markdown",
      "metadata": {
        "id": "jwMVQ4TYEkIR",
        "colab_type": "text"
      },
      "source": [
        "# Init const"
      ]
    },
    {
      "cell_type": "code",
      "metadata": {
        "ExecuteTime": {
          "end_time": "2020-05-15T20:18:12.298068Z",
          "start_time": "2020-05-15T20:18:05.676527Z"
        },
        "colab_type": "code",
        "id": "MVzenqMf5csX",
        "colab": {
          "base_uri": "https://localhost:8080/",
          "height": 71
        },
        "outputId": "7d3347bf-262a-4068-9628-7a426be2188a"
      },
      "source": [
        "import cv2\n",
        "from matplotlib import pyplot as plt\n",
        "from matplotlib.path import Path\n",
        "import seaborn as sns\n",
        "import os\n",
        "import numpy as np\n",
        "\n",
        "import math\n",
        "import sys\n",
        "import time\n",
        "import torch\n",
        "from tqdm.notebook import tqdm\n",
        "\n",
        "%matplotlib inline\n",
        "from IPython.display import clear_output"
      ],
      "execution_count": null,
      "outputs": [
        {
          "output_type": "stream",
          "text": [
            "/usr/local/lib/python3.6/dist-packages/statsmodels/tools/_testing.py:19: FutureWarning: pandas.util.testing is deprecated. Use the functions in the public API at pandas.testing instead.\n",
            "  import pandas.util.testing as tm\n"
          ],
          "name": "stderr"
        }
      ]
    },
    {
      "cell_type": "markdown",
      "metadata": {
        "id": "9heT52UEEfCF",
        "colab_type": "text"
      },
      "source": [
        "### Addition functions"
      ]
    },
    {
      "cell_type": "code",
      "metadata": {
        "id": "n4A_Ey5aY8Hn",
        "colab_type": "code",
        "colab": {}
      },
      "source": [
        "# Бинарный поиск для приближения предсказанной маски 4-хугольником\n",
        "def simplify_contour(contour, n_corners=4):\n",
        "    n_iter, max_iter = 0, 1000\n",
        "    lb, ub = 0., 1.\n",
        "\n",
        "    while True:\n",
        "        n_iter += 1\n",
        "        if n_iter > max_iter:\n",
        "            print('simplify_contour didnt coverege')\n",
        "            return None\n",
        "\n",
        "        k = (lb + ub)/2.\n",
        "        eps = k*cv2.arcLength(contour, True)\n",
        "        approx = cv2.approxPolyDP(contour, eps, True)\n",
        "\n",
        "        if len(approx) > n_corners:\n",
        "            lb = (lb + ub)/2.\n",
        "        elif len(approx) < n_corners:\n",
        "            ub = (lb + ub)/2.\n",
        "        else:\n",
        "            return approx\n",
        "\n",
        "# Отображаем 4-хугольник в прямоугольник \n",
        "def four_point_transform(image, pts):\n",
        "    \n",
        "    rect = order_points(pts)\n",
        "    \n",
        "    tl, tr, br, bl = pts\n",
        "    \n",
        "    width_1 = np.sqrt(((br[0] - bl[0]) ** 2) + ((br[1] - bl[1]) ** 2))\n",
        "    width_2 = np.sqrt(((tr[0] - tl[0]) ** 2) + ((tr[1] - tl[1]) ** 2))\n",
        "    max_width = max(int(width_1), int(width_2))\n",
        "    \n",
        "    height_1 = np.sqrt(((tr[0] - br[0]) ** 2) + ((tr[1] - br[1]) ** 2))\n",
        "    height_2 = np.sqrt(((tl[0] - bl[0]) ** 2) + ((tl[1] - bl[1]) ** 2))\n",
        "    max_height = max(int(height_1), int(height_2))\n",
        "    \n",
        "    dst = np.array([\n",
        "        [0, 0],\n",
        "        [max_width, 0],\n",
        "        [max_width, max_height],\n",
        "        [0, max_height]], dtype = \"float32\")\n",
        "    \n",
        "    M = cv2.getPerspectiveTransform(rect, dst)\n",
        "    warped = cv2.warpPerspective(image, M, (max_width, max_height))\n",
        "    return warped\n",
        "\n",
        "def order_points(pts):\n",
        "    rect = np.zeros((4, 2), dtype = \"float32\")\n",
        "    \n",
        "    s = pts.sum(axis = 1)\n",
        "    rect[0] = pts[np.argmin(s)]\n",
        "    rect[2] = pts[np.argmax(s)]\n",
        "    \n",
        "    diff = np.diff(pts, axis = 1)\n",
        "    rect[1] = pts[np.argmin(diff)]\n",
        "    rect[3] = pts[np.argmax(diff)]\n",
        "    \n",
        "    return rect\n",
        "\n",
        "\n",
        "# Визуализируем детекцию (4 точки, bounding box и приближенный по маске контур)\n",
        "def visualize_prediction_plate(file, model, device='cuda', verbose=True, thresh=0.0, \n",
        "                               n_colors=None, id_to_name=None):\n",
        "    img = Image.open(file)\n",
        "    img_tensor = img_transforms(img)\n",
        "    model.to(device)\n",
        "    model.eval()\n",
        "    with torch.no_grad():\n",
        "        predictions = model([img_tensor.to(device)])\n",
        "    prediction = predictions[0]\n",
        "    \n",
        "    if n_colors is None:\n",
        "        n_colors = model.roi_heads.box_predictor.cls_score.out_features\n",
        "    \n",
        "    palette = sns.color_palette(None, n_colors)\n",
        "    \n",
        "    img = cv2.imread(file, cv2.COLOR_BGR2RGB)\n",
        "    h, w = img.shape[:2]\n",
        "    image = img\n",
        "    \n",
        "    blackImg = np.zeros(image.shape, image.dtype)\n",
        "    blackImg[:,:] = (0, 0, 0)\n",
        "    for i in range(len(prediction['boxes'])):\n",
        "        x_min, y_min, x_max, y_max = map(int, prediction['boxes'][i].tolist())\n",
        "        label = int(prediction['labels'][i].cpu())\n",
        "        score = float(prediction['scores'][i].cpu())\n",
        "        mask = prediction['masks'][i][0, :, :].cpu().numpy()\n",
        "        name = id_to_name[label]\n",
        "        color = palette[label]\n",
        "        \n",
        "        if verbose:\n",
        "            if score > thresh:\n",
        "                print ('Class: {}, Confidence: {}'.format(name, score))\n",
        "        if score > thresh:            \n",
        "            crop_img = image[y_min:y_max, x_min:x_max]\n",
        "            print('Bounding box:')\n",
        "            show_image(crop_img, figsize=(10, 2))\n",
        "            \n",
        "            contours,_ = cv2.findContours((mask > 0.05).astype(np.uint8), 1, 1)\n",
        "            approx = simplify_contour(contours[0], n_corners=4)\n",
        "            \n",
        "            if approx is None:\n",
        "                x0, y0 = x_min, y_min\n",
        "                x1, y1 = x_max, y_min\n",
        "                x2, y2 = x_min, y_max\n",
        "                x3, y3 = x_max, y_max\n",
        "            else:\n",
        "                x0, y0 = approx[0][0][0], approx[0][0][1]\n",
        "                x1, y1 = approx[1][0][0], approx[1][0][1]\n",
        "                x2, y2 = approx[2][0][0], approx[2][0][1]\n",
        "                x3, y3 = approx[3][0][0], approx[3][0][1]\n",
        "                \n",
        "            points = [[x0, y0], [x2, y2], [x1, y1],[x3, y3]]\n",
        "            \n",
        "            \n",
        "            points = np.array(points)\n",
        "            crop_mask_img = four_point_transform(img, points)\n",
        "            print('Rotated img:')\n",
        "            crop_mask_img = cv2.resize(crop_mask_img, (320, 64), interpolation=cv2.INTER_AREA)\n",
        "            show_image(crop_mask_img, figsize=(10, 2))\n",
        "            if approx is not None:\n",
        "                cv2.drawContours(image, [approx], 0, (255,0,255), 3)\n",
        "            image = cv2.circle(image, (x0, y0), radius=5, color=(0, 0, 255), thickness=-1)\n",
        "            image = cv2.circle(image, (x1, y1), radius=5, color=(0, 0, 255), thickness=-1)\n",
        "            image = cv2.circle(image, (x2, y2), radius=5, color=(0, 0, 255), thickness=-1)\n",
        "            image = cv2.circle(image, (x3, y3), radius=5, color=(0, 0, 255), thickness=-1)\n",
        "            \n",
        "            image = cv2.rectangle(image, (x_min, y_min), (x_max, y_max), np.array(color) * 255, 2)\n",
        "            \n",
        "    show_image(image)\n",
        "    return prediction\n",
        "\n",
        "# Просто показать картинку\n",
        "def show_image(image, figsize=(16, 9), reverse=True):\n",
        "    plt.figure(figsize=figsize)\n",
        "    if reverse:\n",
        "        plt.imshow(image[...,::-1])\n",
        "    else:\n",
        "        plt.imshow(image)\n",
        "    plt.axis('off')\n",
        "    plt.show()\n",
        "    \n",
        "\n",
        "# Переводит предсказания модели в текст\n",
        "def decode(pred, alphabet):\n",
        "    pred = pred.permute(1, 0, 2).cpu().data.numpy()\n",
        "    outputs = []\n",
        "    for i in range(len(pred)):\n",
        "        outputs.append(pred_to_string(pred[i], alphabet))\n",
        "    return outputs\n",
        "\n",
        "def pred_to_string(pred, alphabet):\n",
        "    seq = []\n",
        "    for i in range(len(pred)):\n",
        "        label = np.argmax(pred[i])\n",
        "        seq.append(label - 1)\n",
        "    out = []\n",
        "    for i in range(len(seq)):\n",
        "        if len(out) == 0:\n",
        "            if seq[i] != -1:\n",
        "                out.append(seq[i])\n",
        "        else:\n",
        "            if seq[i] != -1 and seq[i] != seq[i - 1]:\n",
        "                out.append(seq[i])\n",
        "    out = ''.join([alphabet[c] for c in out])\n",
        "    return out\n",
        "    \n",
        "\n",
        "        \n",
        "def load_json(file):\n",
        "    with open(file, 'r') as f:\n",
        "        return json.load(f)\n",
        "    \n",
        "# Чтобы без проблем сериализовывать json. Без него есть нюансы\n",
        "class npEncoder(json.JSONEncoder):\n",
        "    def default(self, obj):\n",
        "        if isinstance(obj, np.int32):\n",
        "            return int(obj)\n",
        "        return json.JSONEncoder.default(self, obj)"
      ],
      "execution_count": null,
      "outputs": []
    },
    {
      "cell_type": "markdown",
      "metadata": {
        "id": "TT7SYc69E7O0",
        "colab_type": "text"
      },
      "source": [
        "## Vars"
      ]
    },
    {
      "cell_type": "code",
      "metadata": {
        "id": "3iXbFRg6FBbM",
        "colab_type": "code",
        "colab": {}
      },
      "source": [
        "NUM_IMAGES_TO_SHOW = 36\n",
        "NUM_COLS = 4\n",
        "NUM_ROWS = NUM_IMAGES_TO_SHOW // NUM_COLS + int(NUM_IMAGES_TO_SHOW % NUM_COLS != 0)\n",
        "PATH_TO_DATA = 'data'\n",
        "TRAIN_SIZE = 0.85\n",
        "\n",
        "image_names = os.listdir('data/train')"
      ],
      "execution_count": null,
      "outputs": []
    },
    {
      "cell_type": "code",
      "metadata": {
        "id": "mb0dbmjkw2Ar",
        "colab_type": "code",
        "colab": {}
      },
      "source": [
        "all_marks = load_json(os.path.join(PATH_TO_DATA, 'train.json'))"
      ],
      "execution_count": null,
      "outputs": []
    },
    {
      "cell_type": "code",
      "metadata": {
        "id": "nZPounYJQTDf",
        "colab_type": "code",
        "colab": {
          "base_uri": "https://localhost:8080/",
          "height": 66,
          "referenced_widgets": [
            "5281534e95c8443e8cdb8c525fcefb71",
            "70463daba8d04b089fa5f9aa07db0e2d",
            "2fdd1c2f6ffc43e3b2e2db6a057f8fe2",
            "238f9ac8a4f74318beda3d00a69400c2",
            "08a008dbfe994933998195ef306b9f50",
            "978797e1b8a7440b8c75dd59a6bc972c",
            "2249bd46587a418b8ca11c4d63629989",
            "a89a6991a3e8481c9e824d4aa07ca111"
          ]
        },
        "outputId": "c09378bb-1189-454d-d754-f478832a33f4"
      },
      "source": [
        "import pickle\n",
        "indices_for_delete = []\n",
        "\n",
        "bad_files = pickle.load(open(\"bad_file_names.pkl\", 'rb'))\n",
        "\n",
        "for i in tqdm(range(len(all_marks))):\n",
        "    for j in range(len(bad_files)):\n",
        "        if all_marks[i]['file'] == os.path.join(PATH_TO_DATA, bad_files[j]):\n",
        "            indices_for_delete.append(i)\n",
        "\n",
        "for ind in sorted(indices_for_delete, reverse=True):\n",
        "    all_marks.remove(all_marks[ind])"
      ],
      "execution_count": null,
      "outputs": [
        {
          "output_type": "display_data",
          "data": {
            "application/vnd.jupyter.widget-view+json": {
              "model_id": "5281534e95c8443e8cdb8c525fcefb71",
              "version_minor": 0,
              "version_major": 2
            },
            "text/plain": [
              "HBox(children=(FloatProgress(value=0.0, max=25632.0), HTML(value='')))"
            ]
          },
          "metadata": {
            "tags": []
          }
        },
        {
          "output_type": "stream",
          "text": [
            "\n"
          ],
          "name": "stdout"
        }
      ]
    },
    {
      "cell_type": "code",
      "metadata": {
        "id": "ZSpky-nYS3_x",
        "colab_type": "code",
        "colab": {}
      },
      "source": [
        "test_start = int(TRAIN_SIZE * len(all_marks))\n",
        "train_marks = all_marks[:test_start]\n",
        "val_marks = all_marks[test_start:]\n",
        "\n",
        "device = torch.device('cuda') if torch.cuda.is_available() else torch.device('cpu')"
      ],
      "execution_count": null,
      "outputs": []
    },
    {
      "cell_type": "markdown",
      "metadata": {
        "id": "JGi0Pn2MLrqx",
        "colab_type": "text"
      },
      "source": [
        "# Visualize data"
      ]
    },
    {
      "cell_type": "code",
      "metadata": {
        "ExecuteTime": {
          "end_time": "2020-05-15T20:18:44.935243Z",
          "start_time": "2020-05-15T20:18:39.734647Z"
        },
        "colab_type": "code",
        "id": "Rj-28YDN6EUk",
        "colab": {}
      },
      "source": [
        "test_images = os.listdir('data/test')\n",
        "random_idxs = np.random.choice(len(test_images), size=min(NUM_IMAGES_TO_SHOW, len(test_images)), replace=False)\n",
        "\n",
        "plt.figure(figsize=(25, NUM_ROWS * 8))\n",
        "for i, idx in enumerate(random_idxs, 1):\n",
        "    image = cv2.imread(os.path.join(PATH_TO_DATA, 'test',  test_images[idx]))\n",
        "    image = cv2.cvtColor(image, cv2.COLOR_BGR2RGB)\n",
        "    \n",
        "    plt.subplot(NUM_ROWS, NUM_COLS, i)\n",
        "    plt.imshow(image)\n",
        "\n",
        "plt.tight_layout()\n",
        "plt.show()"
      ],
      "execution_count": null,
      "outputs": []
    },
    {
      "cell_type": "code",
      "metadata": {
        "id": "XhAjs4Ns6TEx",
        "colab_type": "code",
        "colab": {}
      },
      "source": [
        "test_images = [dict(file=os.path.join(PATH_TO_DATA, 'test', f)) for f in os.listdir(os.path.join(PATH_TO_DATA, 'test'))]\n",
        "with open('data/test.json', 'w') as f:\n",
        "      json.dump(test_images, f)\n",
        "\n",
        "with open(os.path.join(PATH_TO_DATA, 'test.json'), 'rb') as f:\n",
        "    j_file_test = json.load(f)"
      ],
      "execution_count": null,
      "outputs": []
    },
    {
      "cell_type": "code",
      "metadata": {
        "ExecuteTime": {
          "end_time": "2020-05-15T20:38:12.942282Z",
          "start_time": "2020-05-15T20:38:12.937425Z"
        },
        "id": "l4JgE_4FLrq2",
        "colab_type": "code",
        "colab": {
          "base_uri": "https://localhost:8080/",
          "height": 51
        },
        "outputId": "5a79d52d-1ec4-40e8-bed6-cd4c4b26922d"
      },
      "source": [
        "with open(os.path.join(PATH_TO_DATA, 'train.json'), 'rb') as f:\n",
        "    j_file = json.load(f)\n",
        "    \n",
        "for num in j_file[1]['nums']:\n",
        "    print(num['box'])"
      ],
      "execution_count": null,
      "outputs": [
        {
          "output_type": "stream",
          "text": [
            "[[794, 661], [1004, 618], [1009, 670], [799, 717]]\n",
            "[[944, 268], [995, 267], [994, 283], [942, 283]]\n"
          ],
          "name": "stdout"
        }
      ]
    },
    {
      "cell_type": "code",
      "metadata": {
        "ExecuteTime": {
          "end_time": "2020-05-15T20:39:32.158312Z",
          "start_time": "2020-05-15T20:39:32.151556Z"
        },
        "colab_type": "code",
        "id": "p0CzM8FKLRLT",
        "colab": {}
      },
      "source": [
        "def draw_bbox(idx):\n",
        "    img = plt.imread(j_file[idx]['file'], 0)\n",
        "    for num in j_file[idx]['nums']:\n",
        "        bbox = np.array(num['box'])\n",
        "        cv2.polylines(img, [bbox], True, (255,0,0), 3)\n",
        "    return(img)"
      ],
      "execution_count": null,
      "outputs": []
    },
    {
      "cell_type": "code",
      "metadata": {
        "ExecuteTime": {
          "end_time": "2020-05-15T21:01:12.754517Z",
          "start_time": "2020-05-15T21:01:12.327343Z"
        },
        "colab_type": "code",
        "id": "A6EzoKLw8hbp",
        "colab": {
          "base_uri": "https://localhost:8080/",
          "height": 281
        },
        "outputId": "a7a935f9-f6c3-49ed-a00e-14e83dc8c6fa"
      },
      "source": [
        "import matplotlib.pyplot as plt\n",
        "import matplotlib.patches as patches\n",
        "from matplotlib.patches import Rectangle\n",
        "from PIL import Image\n",
        "import numpy as np\n",
        "\n",
        "idx = 2000\n",
        "img = draw_bbox(idx)\n",
        "plt.imshow(img)\n",
        "plt.title(j_file[idx]['nums'][0]['text'], color=(1,1,1))\n",
        "plt.show();"
      ],
      "execution_count": null,
      "outputs": [
        {
          "output_type": "display_data",
          "data": {
            "image/png": "[encoded data removed]",
            "text/plain": [
              "<Figure size 432x288 with 1 Axes>"
            ]
          },
          "metadata": {
            "tags": [],
            "needs_background": "light"
          }
        }
      ]
    },
    {
      "cell_type": "code",
      "metadata": {
        "id": "eMHVgBi3Hfo3",
        "colab_type": "code",
        "colab": {}
      },
      "source": [
        "def crop_bbox(idx):\n",
        "    img = plt.imread(j_file[idx]['file'])\n",
        "    res = []\n",
        "    for num in j_file[idx]['nums']:\n",
        "\n",
        "        xmin = min([coord[0] for coord in num['box']])\n",
        "        xmax = max([coord[0] for coord in num['box']])\n",
        "        ymin = min([coord[1] for coord in num['box']])\n",
        "        ymax = max([coord[1] for coord in num['box']])\n",
        "\n",
        "        height = xmax-xmin\n",
        "        width = ymax-ymin\n",
        "        res.append(img[ymin:ymax, xmin:xmax, :])\n",
        "    return res"
      ],
      "execution_count": null,
      "outputs": []
    },
    {
      "cell_type": "code",
      "metadata": {
        "id": "S_QVdg5OH80u",
        "colab_type": "code",
        "colab": {}
      },
      "source": [
        "random_idxs = np.random.choice(len(image_names), size=min(NUM_IMAGES_TO_SHOW, len(image_names)), replace=False)\n",
        "res = {}\n",
        "plt.figure(figsize=(25, NUM_ROWS * 8))\n",
        "for i, idx in enumerate(random_idxs):\n",
        "    images = crop_bbox(idx)\n",
        "    res[idx] = len(images)\n",
        "    for j, image in enumerate(images, 1):\n",
        "        plt.subplot(NUM_ROWS * 4, 4, j + (i * 4))\n",
        "        plt.title(j_file[idx]['nums'][j - 1]['text'], color=(1,1,1))\n",
        "        plt.imshow(image)\n",
        "\n",
        "plt.tight_layout()\n",
        "plt.show()\n",
        "print(res)"
      ],
      "execution_count": null,
      "outputs": []
    },
    {
      "cell_type": "code",
      "metadata": {
        "ExecuteTime": {
          "end_time": "2020-05-15T20:39:43.780014Z",
          "start_time": "2020-05-15T20:39:38.358893Z"
        },
        "colab_type": "code",
        "id": "bTgI5dg8CkM2",
        "colab": {}
      },
      "source": [
        "random_idxs = np.random.choice(len(image_names), size=min(NUM_IMAGES_TO_SHOW, len(image_names)), replace=False)\n",
        "\n",
        "font = {'family': 'serif',\n",
        "        'color':  'white',\n",
        "        'weight': 'normal',\n",
        "        'size': 22,\n",
        "        }\n",
        "\n",
        "plt.figure(figsize=(25, NUM_ROWS * 8))\n",
        "for i, idx in enumerate(random_idxs, 1):\n",
        "    image = draw_bbox(idx)\n",
        "    \n",
        "    plt.subplot(NUM_ROWS, NUM_COLS, i)\n",
        "    title = ' '.join(num['text'] for num in j_file[idx]['nums'])\n",
        "    plt.title(title, fontdict=font)\n",
        "    plt.imshow(image)\n",
        "\n",
        "plt.tight_layout()\n",
        "plt.show()"
      ],
      "execution_count": null,
      "outputs": []
    },
    {
      "cell_type": "markdown",
      "metadata": {
        "id": "c2VJzP_vGbbS",
        "colab_type": "text"
      },
      "source": [
        "# FASTER RCNN"
      ]
    },
    {
      "cell_type": "markdown",
      "metadata": {
        "id": "iMvu_lkrxoGT",
        "colab_type": "text"
      },
      "source": [
        "### Transforms"
      ]
    },
    {
      "cell_type": "code",
      "metadata": {
        "id": "i0PXAMxTxnqU",
        "colab_type": "code",
        "colab": {}
      },
      "source": [
        "class Compose(object):\n",
        "\n",
        "    def __init__(self, transforms):\n",
        "        self.transforms = transforms\n",
        "\n",
        "    def __call__(self, image, mask):\n",
        "        for t in self.transforms:\n",
        "            image, mask = t(image, mask)\n",
        "        return image, mask\n",
        "\n",
        "\n",
        "class Pad(object):\n",
        "\n",
        "    def __init__(self, max_size=1.0, p=0.1):\n",
        "        self.max_size = max_size\n",
        "        self.p = p\n",
        "\n",
        "    def __call__(self, image, mask):\n",
        "        if np.random.uniform(0.0, 1.0) > self.p:\n",
        "            return image, mask\n",
        "        h, w, _ = image.shape\n",
        "        size = int(np.random.uniform(0, self.max_size) * min(w, h))\n",
        "        image_ = cv2.copyMakeBorder(image, size, size, size, size, borderType=cv2.BORDER_CONSTANT, value=0.0)\n",
        "        mask_ = cv2.copyMakeBorder(mask, size, size, size, size, borderType=cv2.BORDER_CONSTANT, value=0.0)\n",
        "        return image_, mask_\n",
        "\n",
        "\n",
        "class Crop(object):\n",
        "    def __init__(self, min_size=0.5, min_ratio=0.5, max_ratio=2.0, p=0.25):\n",
        "        self.min_size = min_size\n",
        "        self.min_ratio = min_ratio\n",
        "        self.max_ratio = max_ratio\n",
        "        self.p = p\n",
        "\n",
        "    def __call__(self, image, mask):\n",
        "        if np.random.uniform(0.0, 1.0) > self.p:\n",
        "            return image, mask\n",
        "        h, w, _ = image.shape\n",
        "        aspect_ratio = np.random.uniform(self.min_ratio, self.max_ratio)  # = w / h\n",
        "        if aspect_ratio > 1:\n",
        "            w_ = int(np.random.uniform(self.min_size, 1.0) * w)\n",
        "            h_ = int(w / aspect_ratio)\n",
        "        else:\n",
        "            h_ = int(np.random.uniform(self.min_size, 1.0) * h)\n",
        "            w_ = int(h * aspect_ratio)\n",
        "\n",
        "        x = np.random.randint(0, max(1, w - w_))\n",
        "        y = np.random.randint(0, max(1, h - h_))\n",
        "        crop_image = image[y: y + h_, x: x + w_, :]\n",
        "        crop_mask = mask[y: y + h_, x: x + w_]\n",
        "        return crop_image, crop_mask\n",
        "\n",
        "\n",
        "class Resize(object):\n",
        "    def __init__(self, size, keep_aspect=False):\n",
        "        self.size = size\n",
        "        self.keep_aspect = keep_aspect\n",
        "\n",
        "    def __call__(self, image, mask):\n",
        "        image_, mask_ = image.copy(), mask.copy()\n",
        "        if self.keep_aspect:\n",
        "            # padding step\n",
        "            h, w = image.shape[:2]\n",
        "            k = min(self.size[0] / w, self.size[1] / h)\n",
        "            h_ = int(h * k)\n",
        "            w_ = int(w * k)\n",
        "\n",
        "            interpolation = cv2.INTER_AREA if k <= 1 else cv2.INTER_LINEAR\n",
        "            image_ = cv2.resize(image_, None, fx=k, fy=k, interpolation=interpolation)\n",
        "            mask_ = cv2.resize(mask_, None, fx=k, fy=k, interpolation=interpolation)\n",
        "\n",
        "            dh = max(0, (self.size[1] - h_) // 2)\n",
        "            dw = max(0, (self.size[0] - w_) // 2)\n",
        "            image_ = cv2.copyMakeBorder(image_, dh, dh, dw, dw, cv2.BORDER_CONSTANT, value=0.0)\n",
        "            mask_ = cv2.copyMakeBorder(mask_, dh, dh, dw, dw, cv2.BORDER_CONSTANT, value=0.0)\n",
        "        if image_.shape[0] != self.size[1] or image_.shape[1] != self.size[0]:\n",
        "            image_ = cv2.resize(image_, self.size)\n",
        "            mask_ = cv2.resize(mask_, self.size)\n",
        "        return image_, mask_\n",
        "\n",
        "\n",
        "class Flip(object):\n",
        "    def __init__(self, p=0.1):\n",
        "        self.p = p\n",
        "\n",
        "    def __call__(self, image, mask):\n",
        "        if np.random.uniform() > self.p:\n",
        "            return image, mask\n",
        "        return cv2.flip(image, 1), cv2.flip(mask, 1)\n"
      ],
      "execution_count": null,
      "outputs": []
    },
    {
      "cell_type": "markdown",
      "metadata": {
        "id": "aZxCJvOZLrrA",
        "colab_type": "text"
      },
      "source": [
        "## Prepare"
      ]
    },
    {
      "cell_type": "code",
      "metadata": {
        "id": "PqqJekgz82hL",
        "colab_type": "code",
        "colab": {}
      },
      "source": [
        "import os\n",
        "import numpy as np\n",
        "import torch\n",
        "import torch.utils.data\n",
        "from PIL import Image\n",
        "import json\n",
        "from torchvision import transforms\n",
        "from torch.nn.functional import ctc_loss, log_softmax\n",
        "\n",
        "class DetectionDataset(torch.utils.data.Dataset):\n",
        "    def __init__(self, marks, img_folder, transforms=None):\n",
        "\n",
        "        self.marks = marks\n",
        "        self.img_folder = img_folder\n",
        "        self.transforms = transforms\n",
        "\n",
        "    def __getitem__(self, idx):\n",
        "        item = self.marks[idx]\n",
        "        img_path = f'{item[\"file\"]}'\n",
        "        img = Image.open(img_path).convert('RGB')\n",
        "        w, h = img.size\n",
        "        \n",
        "        box_coords = item['nums']\n",
        "        boxes, labels, masks = [], [], []\n",
        "        for box in box_coords:\n",
        "            points = np.array(box['box'])  \n",
        "            x0, y0 = np.min(points[:, 0]), np.min(points[:, 1])\n",
        "            x2, y2 = np.max(points[:, 0]), np.max(points[:, 1])\n",
        "            boxes.append([x0, y0, x2, y2])\n",
        "            labels.append(1)\n",
        "            \n",
        "            # превращаем 4 точки в маску\n",
        "            # кроме bounding box предсказываем и маску\n",
        "            nx, ny = w, h\n",
        "            poly_verts = points\n",
        "            x, y = np.meshgrid(np.arange(nx), np.arange(ny))\n",
        "            x, y = x.flatten(), y.flatten()\n",
        "            points = np.vstack((x,y)).T\n",
        "            path = Path(poly_verts)\n",
        "            grid = path.contains_points(points)\n",
        "            grid = grid.reshape((ny,nx)).astype(int)\n",
        "            masks.append(grid)\n",
        "        boxes = torch.as_tensor(boxes)\n",
        "        labels = torch.as_tensor(labels)\n",
        "        masks = torch.as_tensor(masks)\n",
        "        \n",
        "        target = {\n",
        "            'boxes': boxes,\n",
        "            'labels': labels,\n",
        "            'masks': masks,\n",
        "        }\n",
        "        \n",
        "        if self.transforms is not None:\n",
        "            img = self.transforms(img)\n",
        "        return img, target\n",
        "    \n",
        "    \n",
        "    def __len__(self):\n",
        "        return len(self.marks)"
      ],
      "execution_count": null,
      "outputs": []
    },
    {
      "cell_type": "markdown",
      "metadata": {
        "id": "TYlAe-lYA4XC",
        "colab_type": "text"
      },
      "source": [
        "## Work with data"
      ]
    },
    {
      "cell_type": "code",
      "metadata": {
        "id": "77PNW5JHCXOL",
        "colab_type": "code",
        "colab": {}
      },
      "source": [
        "img_transforms = transforms.Compose([\n",
        "    transforms.ToTensor()\n",
        "])\n",
        "\n",
        "test_transforms = transforms.Compose([\n",
        "    transforms.ToTensor()\n",
        "])"
      ],
      "execution_count": null,
      "outputs": []
    },
    {
      "cell_type": "code",
      "metadata": {
        "id": "kbe5he2NB55Y",
        "colab_type": "code",
        "colab": {}
      },
      "source": [
        "train_dataset = DetectionDataset(\n",
        "    marks=train_marks, \n",
        "    img_folder=PATH_TO_DATA, \n",
        "    transforms=img_transforms\n",
        ")\n",
        "val_dataset = DetectionDataset(\n",
        "    marks=val_marks, \n",
        "    img_folder=PATH_TO_DATA, \n",
        "    transforms=img_transforms\n",
        ")"
      ],
      "execution_count": null,
      "outputs": []
    },
    {
      "cell_type": "code",
      "metadata": {
        "ExecuteTime": {
          "end_time": "2020-05-15T21:04:34.524249Z",
          "start_time": "2020-05-15T21:04:34.519698Z"
        },
        "id": "nbzYlFc8LrrJ",
        "colab_type": "code",
        "colab": {}
      },
      "source": [
        "def collate_fn(batch):\n",
        "    return tuple(zip(*batch))"
      ],
      "execution_count": null,
      "outputs": []
    },
    {
      "cell_type": "code",
      "metadata": {
        "id": "RMupzyJk8dHf",
        "colab_type": "code",
        "colab": {}
      },
      "source": [
        "train_data_loader = torch.utils.data.DataLoader(\n",
        "    train_dataset, batch_size=4, shuffle=True, num_workers=4,\n",
        "    collate_fn=collate_fn, drop_last=True)\n",
        "\n",
        "val_data_loader = torch.utils.data.DataLoader(\n",
        "    val_dataset, batch_size=4, shuffle=True, num_workers=4,\n",
        "    collate_fn=collate_fn, drop_last=False)"
      ],
      "execution_count": null,
      "outputs": []
    },
    {
      "cell_type": "code",
      "metadata": {
        "ExecuteTime": {
          "end_time": "2020-05-15T21:06:22.482261Z",
          "start_time": "2020-05-15T21:06:21.802015Z"
        },
        "id": "KHLVRAYbLrrR",
        "colab_type": "code",
        "colab": {
          "base_uri": "https://localhost:8080/",
          "height": 103,
          "referenced_widgets": [
            "57dc63327f364507a31a55871a3197e8",
            "662ad9954c3a4619a15f75acfadb7535",
            "8c5579042fc242f598ec83087d738176",
            "6bbf09f7a6e1455c8096a905c5c24e76",
            "d39d058512c042b09f4cf5088071bc6d",
            "416ba46f2b6a4de6828157f6e8a74f4e",
            "0a56011b27824348ad0c13195e5b99d3",
            "48931cc2a8ef4ac8bfdf18d9c5f443a0"
          ]
        },
        "outputId": "c9a83bb5-0907-4d2b-dc08-da41b4d82f52"
      },
      "source": [
        "import torchvision\n",
        "from torchvision.models.detection.faster_rcnn import FastRCNNPredictor\n",
        "from torchvision.models.detection.mask_rcnn import MaskRCNNPredictor\n",
        "# load a model pre-trained pre-trained on COCO\n",
        "model = torchvision.models.detection.maskrcnn_resnet50_fpn(pretrained=True, pretrained_backbone=True)\n",
        "\n",
        "num_classes = 2\n",
        "in_features = model.roi_heads.box_predictor.cls_score.in_features\n",
        "model.roi_heads.box_predictor = FastRCNNPredictor(in_features,\n",
        "                                                  num_classes)\n",
        "mask_predictor = MaskRCNNPredictor(256, 256, num_classes)\n",
        "model.roi_heads.mask_predictor = mask_predictor\n",
        "\n",
        "# Заморозим все слои кроме последних\n",
        "    \n",
        "for param in model.parameters():\n",
        "    param.requires_grad = False\n",
        "        \n",
        "for param in model.backbone.fpn.parameters():\n",
        "    param.requires_grad = True\n",
        "\n",
        "for param in model.rpn.parameters():\n",
        "    param.requires_grad = True\n",
        "\n",
        "for param in model.roi_heads.parameters():\n",
        "    param.requires_grad = True"
      ],
      "execution_count": null,
      "outputs": [
        {
          "output_type": "stream",
          "text": [
            "Downloading: \"https://download.pytorch.org/models/maskrcnn_resnet50_fpn_coco-bf2d0c1e.pth\" to /root/.cache/torch/checkpoints/maskrcnn_resnet50_fpn_coco-bf2d0c1e.pth\n"
          ],
          "name": "stderr"
        },
        {
          "output_type": "display_data",
          "data": {
            "application/vnd.jupyter.widget-view+json": {
              "model_id": "57dc63327f364507a31a55871a3197e8",
              "version_minor": 0,
              "version_major": 2
            },
            "text/plain": [
              "HBox(children=(FloatProgress(value=0.0, max=178090079.0), HTML(value='')))"
            ]
          },
          "metadata": {
            "tags": []
          }
        },
        {
          "output_type": "stream",
          "text": [
            "\n"
          ],
          "name": "stdout"
        }
      ]
    },
    {
      "cell_type": "code",
      "metadata": {
        "id": "WPjYJAqQJii7",
        "colab_type": "code",
        "colab": {}
      },
      "source": [
        "device = torch.device('cuda') if torch.cuda.is_available() else torch.device('cpu')\n",
        "\n",
        "# move model to the right device\n",
        "model.to(device)\n",
        "    \n",
        "# construct an optimizer\n",
        "params = [p for p in model.parameters() if p.requires_grad]\n",
        "optimizer = torch.optim.Adam(model.parameters(), lr=3e-4)\n",
        "scheduler = torch.optim.lr_scheduler.ReduceLROnPlateau(optimizer,\n",
        "                                                       patience=20,\n",
        "                                                       factor=0.5,\n",
        "                                                       verbose=True)"
      ],
      "execution_count": null,
      "outputs": []
    },
    {
      "cell_type": "code",
      "metadata": {
        "ExecuteTime": {
          "end_time": "2020-05-15T21:06:58.822410Z",
          "start_time": "2020-05-15T21:06:58.817783Z"
        },
        "id": "PqQdKpA4LrrV",
        "colab_type": "code",
        "colab": {}
      },
      "source": [
        "model.train()\n",
        "for epoch in range(1):\n",
        "\n",
        "    print_loss = []\n",
        "    for i, (images, targets) in tqdm(enumerate(train_data_loader), leave=False, position=0, total=len(train_data_loader)):\n",
        "\n",
        "        images = [image.to(device) for image in images]\n",
        "        targets = [{k: v.to(device) for k, v in t.items()} for t in targets]\n",
        "\n",
        "        loss_dict = model(images, targets)\n",
        "        losses = sum(loss_dict.values())\n",
        "\n",
        "        losses.backward()\n",
        "        optimizer.step()\n",
        "        optimizer.zero_grad()\n",
        "        \n",
        "        print_loss.append(losses.item())\n",
        "        if (i + 1) % 20 == 0:\n",
        "            mean_loss = np.mean(print_loss)\n",
        "            print(f'Loss: {mean_loss:.7f}')\n",
        "            scheduler.step(mean_loss)\n",
        "            print_loss = [] \n",
        "\n",
        "torch.save(model.state_dict(), 'detection.pth')"
      ],
      "execution_count": null,
      "outputs": []
    },
    {
      "cell_type": "code",
      "metadata": {
        "id": "1sEk3tGef1Hp",
        "colab_type": "code",
        "colab": {}
      },
      "source": [
        "model.load_state_dict(torch.load('detection.pth'))\n",
        "model.to(device);"
      ],
      "execution_count": null,
      "outputs": []
    },
    {
      "cell_type": "code",
      "metadata": {
        "id": "UJPLCW6tYv6f",
        "colab_type": "code",
        "colab": {}
      },
      "source": [
        "import glob\n",
        "test_images = glob.glob(os.path.join(PATH_TO_DATA, 'test/*'))"
      ],
      "execution_count": null,
      "outputs": []
    },
    {
      "cell_type": "code",
      "metadata": {
        "id": "27pNYWteLQj2",
        "colab_type": "code",
        "colab": {}
      },
      "source": [
        "visualize_prediction_plate(np.random.choice(test_images), model, id_to_name={1: 'plate'}, thresh=0.95)"
      ],
      "execution_count": null,
      "outputs": []
    },
    {
      "cell_type": "markdown",
      "metadata": {
        "id": "QEVB0xkOD5Rf",
        "colab_type": "text"
      },
      "source": [
        "## Eval"
      ]
    },
    {
      "cell_type": "code",
      "metadata": {
        "id": "GvBrW4IvAYbo",
        "colab_type": "code",
        "colab": {
          "base_uri": "https://localhost:8080/",
          "height": 105,
          "referenced_widgets": [
            "7d38ec0bf28e497cbe04fd865ebb566f",
            "1f591ab49e4e4473acef30e1dc7ee38b",
            "40a4d71a73d9403b99c7922f00499752",
            "79ee4e44fdd349a58d238fb503a0d886",
            "da5d65a9afae468abbb177f89b7c5024",
            "74038a4dc9c24ff0bf215fe3ba5dc2d6",
            "dbfe49e983834eabbda96e26eaa257bf",
            "baf856fbe61143d5a211aa563ce2348a"
          ]
        },
        "outputId": "e5208f44-6d20-4bdf-fad6-0df70a35d956"
      },
      "source": [
        "THRESHOLD_SCORE = 0.93\n",
        "TRESHOLD_MASK = 0.05\n",
        "\n",
        "preds = []\n",
        "model.eval()\n",
        "\n",
        "\n",
        "for f in tqdm(test_images, position=0, leave=False):\n",
        "\n",
        "    img = Image.open(f).convert('RGB')\n",
        "    img_tensor = img_transforms(img)\n",
        "    with torch.no_grad():\n",
        "        predictions = model([img_tensor.to(device)])\n",
        "    prediction = predictions[0]\n",
        "\n",
        "    pred = dict()\n",
        "    pred['file'] = f\n",
        "    pred['nums'] = []\n",
        "\n",
        "    for i in range(len(prediction['boxes'])):\n",
        "        x_min, y_min, x_max, y_max = map(int, prediction['boxes'][i].tolist())\n",
        "        label = int(prediction['labels'][i].cpu())\n",
        "        score = float(prediction['scores'][i].cpu())\n",
        "        mask = prediction['masks'][i][0, :, :].cpu().numpy()\n",
        "\n",
        "        if score > THRESHOLD_SCORE:            \n",
        "            # В разных версиях opencv этот метод возвращает разное число параметров\n",
        "            contours,_ = cv2.findContours((mask > TRESHOLD_MASK).astype(np.uint8), 1, 1)\n",
        "            # _,contours,_ = cv2.findContours((mask > TRESHOLD_MASK).astype(np.uint8), 1, 1)\n",
        "            approx = simplify_contour(contours[0], n_corners=4)\n",
        "            \n",
        "            if approx is None:\n",
        "                x0, y0 = x_min, y_min\n",
        "                x1, y1 = x_max, y_min\n",
        "                x2, y2 = x_min, y_max\n",
        "                x3, y3 = x_max, y_max\n",
        "            else:\n",
        "                x0, y0 = approx[0][0][0], approx[0][0][1]\n",
        "                x1, y1 = approx[1][0][0], approx[1][0][1]\n",
        "                x2, y2 = approx[2][0][0], approx[2][0][1]\n",
        "                x3, y3 = approx[3][0][0], approx[3][0][1]\n",
        "                \n",
        "            points = [[x0, y0], [x2, y2], [x1, y1],[x3, y3]]\n",
        "\n",
        "            pred['nums'].append({\n",
        "                'box': points,\n",
        "                'bbox': [x_min, y_min, x_max, y_max],\n",
        "            })\n",
        "\n",
        "    preds.append(pred)"
      ],
      "execution_count": null,
      "outputs": [
        {
          "output_type": "display_data",
          "data": {
            "application/vnd.jupyter.widget-view+json": {
              "model_id": "7d38ec0bf28e497cbe04fd865ebb566f",
              "version_minor": 0,
              "version_major": 2
            },
            "text/plain": [
              "HBox(children=(FloatProgress(value=0.0, max=3188.0), HTML(value='')))"
            ]
          },
          "metadata": {
            "tags": []
          }
        },
        {
          "output_type": "stream",
          "text": [
            "/usr/local/lib/python3.6/dist-packages/torch/nn/functional.py:2854: UserWarning: The default behavior for interpolate/upsample with float scale_factor will change in 1.6.0 to align with other frameworks/libraries, and use scale_factor directly, instead of relying on the computed output size. If you wish to keep the old behavior, please set recompute_scale_factor=True. See the documentation of nn.Upsample for details. \n",
            "  warnings.warn(\"The default behavior for interpolate/upsample with float scale_factor will change \"\n"
          ],
          "name": "stderr"
        },
        {
          "output_type": "stream",
          "text": [
            "simplify_contour didnt coverege\n",
            "simplify_contour didnt coverege\n"
          ],
          "name": "stdout"
        }
      ]
    },
    {
      "cell_type": "code",
      "metadata": {
        "id": "Q540aceHeCoS",
        "colab_type": "code",
        "colab": {}
      },
      "source": [
        "with open(os.path.join(PATH_TO_DATA, 'test.json'), 'w') as json_file:\n",
        "    json.dump(preds, json_file, cls=npEncoder)"
      ],
      "execution_count": null,
      "outputs": []
    },
    {
      "cell_type": "code",
      "metadata": {
        "id": "Z53PUNTO81aM",
        "colab_type": "code",
        "colab": {
          "base_uri": "https://localhost:8080/",
          "height": 71
        },
        "outputId": "9301a680-9d51-4df0-deed-f5c3b3a0e538"
      },
      "source": [
        "import pickle\n",
        "\n",
        "pickle.dump(predictions, open( \"detection_preds.pkl\", \"wb\" ))"
      ],
      "execution_count": null,
      "outputs": [
        {
          "output_type": "stream",
          "text": [
            "/usr/local/lib/python3.6/dist-packages/torch/storage.py:34: FutureWarning: pickle support for Storage will be removed in 1.5. Use `torch.save` instead\n",
            "  warnings.warn(\"pickle support for Storage will be removed in 1.5. Use `torch.save` instead\", FutureWarning)\n"
          ],
          "name": "stderr"
        }
      ]
    },
    {
      "cell_type": "code",
      "metadata": {
        "id": "U7oTRJMifE4U",
        "colab_type": "code",
        "colab": {
          "base_uri": "https://localhost:8080/",
          "height": 68
        },
        "outputId": "243de44a-3abb-4256-c637-38bff1b02930"
      },
      "source": [
        "preds[0]"
      ],
      "execution_count": null,
      "outputs": [
        {
          "output_type": "execute_result",
          "data": {
            "text/plain": [
              "{'file': 'data/test/457.jpg',\n",
              " 'nums': [{'bbox': [159, 217, 286, 246],\n",
              "   'box': [[157, 218], [288, 246], [159, 246], [287, 217]]}]}"
            ]
          },
          "metadata": {
            "tags": []
          },
          "execution_count": 32
        }
      ]
    },
    {
      "cell_type": "code",
      "metadata": {
        "id": "b2fGG4KId__6",
        "colab_type": "code",
        "colab": {}
      },
      "source": [
        "random_idxs = np.random.choice(len(test_images), size=min(NUM_IMAGES_TO_SHOW, len(test_images)), replace=False)\n",
        "\n",
        "font = {'family': 'serif',\n",
        "        'color':  'white',\n",
        "        'weight': 'normal',\n",
        "        'size': 22,\n",
        "        }\n",
        "\n",
        "\n",
        "def draw_bbox_pred(predictions, idx):\n",
        "    img = plt.imread(predictions[idx]['file'], 0)\n",
        "    for num in predictions[idx]['nums']:\n",
        "        bbox = np.array([num['box'][0],\n",
        "                         num['box'][2],\n",
        "                         num['box'][1],\n",
        "                         num['box'][3]])\n",
        "        cv2.polylines(img, [bbox], True, (255,0,0), 3)\n",
        "    return(img)\n",
        "\n",
        "plt.figure(figsize=(25, NUM_ROWS * 8))\n",
        "for i, idx in enumerate(random_idxs, 1):\n",
        "    image = draw_bbox_pred(preds, idx)\n",
        "    plt.subplot(NUM_ROWS, NUM_COLS, i)\n",
        "    title = preds[idx]['file']\n",
        "    plt.title(title, fontdict=font)\n",
        "    plt.imshow(image)\n",
        "\n",
        "plt.tight_layout()\n",
        "plt.show()"
      ],
      "execution_count": null,
      "outputs": []
    },
    {
      "cell_type": "markdown",
      "metadata": {
        "id": "f5nL3XmTGPC2",
        "colab_type": "text"
      },
      "source": [
        "# RCNN"
      ]
    },
    {
      "cell_type": "markdown",
      "metadata": {
        "id": "Mg136xMIGh1N",
        "colab_type": "text"
      },
      "source": [
        "## Prepare"
      ]
    },
    {
      "cell_type": "code",
      "metadata": {
        "id": "npDHSlKCNoar",
        "colab_type": "code",
        "colab": {}
      },
      "source": [
        "VOCAB = \"0123456789ABEKMHOPCTYX\""
      ],
      "execution_count": null,
      "outputs": []
    },
    {
      "cell_type": "code",
      "metadata": {
        "id": "g0N578paxyOg",
        "colab_type": "code",
        "colab": {}
      },
      "source": [
        "class RecognitionDataset(torch.utils.data.Dataset):\n",
        "    def __init__(self, marks, img_folder, alphabet, transforms=None):\n",
        "        ocr_marks = []\n",
        "        for items in marks:\n",
        "            file_path = items['file']\n",
        "            for box in items['nums']:\n",
        "                \n",
        "                ocr_marks.append({\n",
        "                    'file': file_path,\n",
        "                    'box': np.clip(box['box'], 0, None).tolist(),\n",
        "                    'text': box['text'],\n",
        "                    'boxed': False,\n",
        "                })\n",
        "                            \n",
        "                # Добавим точки, запакованные в BoundingBox. \n",
        "                # Вместо аугментации rotate. Датасет будет в 2 раза больше\n",
        "                \n",
        "                #Клипаем, ибо есть отрицательные координаты\n",
        "                points = np.clip(box['box'], 0, None) \n",
        "                x0, y0 = np.min(points[:, 0]), np.min(points[:, 1])\n",
        "                x2, y2 = np.max(points[:, 0]), np.max(points[:, 1])\n",
        "\n",
        "                ocr_marks.append({\n",
        "                    'file': file_path,\n",
        "                    'box': [x0, y0, x2, y2],\n",
        "                    'text': box['text'],\n",
        "                    'boxed': True,\n",
        "                })\n",
        "                \n",
        "        self.marks = ocr_marks\n",
        "        self.img_folder = img_folder\n",
        "        self.transforms = transforms\n",
        "        self.alphabet = alphabet\n",
        "        \n",
        "    def __getitem__(self, idx):\n",
        "        item = self.marks[idx]\n",
        "        img_path = item[\"file\"]\n",
        "        img = cv2.imread(img_path)\n",
        "        if item['boxed']:\n",
        "            x_min, y_min, x_max, y_max = item['box']\n",
        "            img = img[y_min:y_max, x_min:x_max]\n",
        "        else:\n",
        "            points = np.clip(np.array(item['box']), 0, None)\n",
        "            img = four_point_transform(img, points)\n",
        "            \n",
        "        text = item['text']\n",
        "        seq = [self.alphabet.find(char) + 1 for char in text]\n",
        "        seq_len = len(seq)\n",
        "        \n",
        "        if self.transforms is not None:\n",
        "            img = self.transforms(img)\n",
        "\n",
        "        output = {\n",
        "            'img': img,\n",
        "            'text': text,\n",
        "            'seq': seq,\n",
        "            'seq_len': seq_len\n",
        "        }\n",
        "        \n",
        "        return output\n",
        "    \n",
        "    \n",
        "    def __len__(self):\n",
        "        return len(self.marks)"
      ],
      "execution_count": null,
      "outputs": []
    },
    {
      "cell_type": "code",
      "metadata": {
        "id": "EiCV08lWN9Qw",
        "colab_type": "code",
        "colab": {}
      },
      "source": [
        "class Resize(object):\n",
        "    def __init__(self, size=(320, 64)):\n",
        "        self.size = size\n",
        "\n",
        "    def __call__(self, img):\n",
        "\n",
        "        w_from, h_from = img.shape[1], img.shape[0]\n",
        "        w_to, h_to = self.size\n",
        "        \n",
        "        # Сделаем разную интерполяцию при увеличении и уменьшении\n",
        "        # Если увеличиваем картинку, меняем интерполяцию\n",
        "        interpolation = cv2.INTER_AREA\n",
        "        if w_to > w_from:\n",
        "            interpolation = cv2.INTER_CUBIC\n",
        "        \n",
        "        img = cv2.resize(img, dsize=self.size, interpolation=interpolation)\n",
        "        return img"
      ],
      "execution_count": null,
      "outputs": []
    },
    {
      "cell_type": "code",
      "metadata": {
        "id": "JG9m6UFNQI24",
        "colab_type": "code",
        "colab": {}
      },
      "source": [
        "ocr_transforms = transforms.Compose([\n",
        "    Resize(size=(320, 64)),\n",
        "    transforms.ToPILImage(),\n",
        "    transforms.Grayscale(3),\n",
        "    transforms.ToTensor()\n",
        "])"
      ],
      "execution_count": null,
      "outputs": []
    },
    {
      "cell_type": "code",
      "metadata": {
        "id": "SHicj4tz4ZbY",
        "colab_type": "code",
        "colab": {}
      },
      "source": [
        "from collections import Counter\n",
        "\n",
        "\n",
        "def get_vocab_from_marks(marks):\n",
        "    train_texts = []\n",
        "    for item in marks:\n",
        "        for num in item['nums']:\n",
        "            train_texts.append(num['text'])\n",
        "\n",
        "    counts = Counter(''.join(train_texts))\n",
        "    alphabet = ''.join(set(''.join(train_texts)))\n",
        "    corted_counts = sorted(counts.items(), key=lambda x: x[1], reverse=True)\n",
        "    char_to_idx = {item[0]: idx + 1 for idx, item in enumerate(corted_counts)}\n",
        "    idx_to_char = {idx:char for char, idx in char_to_idx.items()}\n",
        "    return char_to_idx, idx_to_char, alphabet"
      ],
      "execution_count": null,
      "outputs": []
    },
    {
      "cell_type": "code",
      "metadata": {
        "id": "awZ1fUxE4d9Q",
        "colab_type": "code",
        "colab": {}
      },
      "source": [
        "char_to_idx, idx_to_char, alphabet = get_vocab_from_marks(train_marks)"
      ],
      "execution_count": null,
      "outputs": []
    },
    {
      "cell_type": "code",
      "metadata": {
        "id": "AzWhVWKV4odi",
        "colab_type": "code",
        "colab": {}
      },
      "source": [
        "train_ocr_dataset = RecognitionDataset(\n",
        "    marks=train_marks, \n",
        "    img_folder=PATH_TO_DATA, \n",
        "    alphabet=alphabet,\n",
        "    transforms=ocr_transforms\n",
        ")\n",
        "val_ocr_dataset = RecognitionDataset(\n",
        "    marks=val_marks, \n",
        "    img_folder=PATH_TO_DATA, \n",
        "    alphabet=alphabet,\n",
        "    transforms=ocr_transforms\n",
        ")"
      ],
      "execution_count": null,
      "outputs": []
    },
    {
      "cell_type": "code",
      "metadata": {
        "id": "1rpLe-1Bdtz1",
        "colab_type": "code",
        "colab": {}
      },
      "source": [
        "def collate_fn_ocr(batch):\n",
        "    \"\"\"Function for torch.utils.data.Dataloader for batch collecting.\n",
        "    Accepts list of dataset __get_item__ return values (dicts).\n",
        "    Returns dict with same keys but values are either torch.Tensors of batched images, sequences, and so.\n",
        "    \"\"\"\n",
        "    images, seqs, seq_lens, texts = [], [], [], []\n",
        "    for sample in batch:\n",
        "        images.append(sample[\"img\"])\n",
        "        seqs.extend(sample[\"seq\"])\n",
        "        seq_lens.append(sample[\"seq_len\"])\n",
        "        texts.append(sample[\"text\"])\n",
        "    images = torch.stack(images)\n",
        "    seqs = torch.Tensor(seqs).int()\n",
        "    seq_lens = torch.Tensor(seq_lens).int()\n",
        "    batch = {\"image\": images, \"seq\": seqs, \"seq_len\": seq_lens, \"text\": texts}\n",
        "    return batch"
      ],
      "execution_count": null,
      "outputs": []
    },
    {
      "cell_type": "code",
      "metadata": {
        "id": "EWvg3WIM47x7",
        "colab_type": "code",
        "colab": {}
      },
      "source": [
        "BATCH_SIZE_OCR = 8\n",
        "\n",
        "train_ocr_loader = torch.utils.data.DataLoader(\n",
        "    train_ocr_dataset, \n",
        "    batch_size=BATCH_SIZE_OCR, \n",
        "    drop_last=True,\n",
        "    num_workers=0, # Почему-то у меня виснет DataLoader, если запустить несколько потоков\n",
        "    collate_fn=collate_fn_ocr,\n",
        "    timeout=0,\n",
        "    shuffle=True\n",
        ")\n",
        "\n",
        "val_ocr_loader = torch.utils.data.DataLoader(\n",
        "    val_ocr_dataset, \n",
        "    batch_size=BATCH_SIZE_OCR, \n",
        "    drop_last=False,\n",
        "    num_workers=0,\n",
        "    collate_fn=collate_fn_ocr, \n",
        "    timeout=0,\n",
        ")"
      ],
      "execution_count": null,
      "outputs": []
    },
    {
      "cell_type": "markdown",
      "metadata": {
        "id": "tkMv_Wnn_Wgz",
        "colab_type": "text"
      },
      "source": [
        "### Models"
      ]
    },
    {
      "cell_type": "code",
      "metadata": {
        "id": "UA4hq_eu8GkD",
        "colab_type": "code",
        "colab": {}
      },
      "source": [
        "class FeatureExtractor(torch.nn.Module):\n",
        "    \n",
        "    def __init__(self, input_size=(64, 320), output_len=20):\n",
        "        super(FeatureExtractor, self).__init__()\n",
        "        \n",
        "        h, w = input_size\n",
        "        resnet = getattr(torchvision.models, 'resnet18')(pretrained=True)\n",
        "        self.cnn = torch.nn.Sequential(*list(resnet.children())[:-2])\n",
        "        \n",
        "        self.pool = torch.nn.AvgPool2d(kernel_size=(h // 32, 1))        \n",
        "        self.proj = torch.nn.Conv2d(w // 32, output_len, kernel_size=1)\n",
        "  \n",
        "        self.num_output_features = self.cnn[-1][-1].bn2.num_features  \n",
        "        # self.num_output_features = 2048  \n",
        "    \n",
        "    def apply_projection(self, x):\n",
        "        \"\"\"Use convolution to increase width of a features.\n",
        "        Accepts tensor of features (shaped B x C x H x W).\n",
        "        Returns new tensor of features (shaped B x C x H x W').\n",
        "        \"\"\"\n",
        "        x = x.permute(0, 3, 2, 1).contiguous()\n",
        "        x = self.proj(x)\n",
        "        x = x.permute(0, 2, 3, 1).contiguous()\n",
        "        return x\n",
        "   \n",
        "    def forward(self, x):\n",
        "        # Apply conv layers\n",
        "        features = self.cnn(x)\n",
        "        \n",
        "        # Pool to make height == 1\n",
        "        features = self.pool(features)\n",
        "\n",
        "        # Apply projection to increase width\n",
        "        features = self.apply_projection(features)\n",
        "        \n",
        "        return features"
      ],
      "execution_count": null,
      "outputs": []
    },
    {
      "cell_type": "code",
      "metadata": {
        "id": "GJZQNhA68JPi",
        "colab_type": "code",
        "colab": {}
      },
      "source": [
        "class SequencePredictor(torch.nn.Module):\n",
        "    \n",
        "    def __init__(self, input_size, hidden_size, num_layers, num_classes, dropout=0.3, bidirectional=True):\n",
        "        super(SequencePredictor, self).__init__()\n",
        "        \n",
        "        self.num_classes = num_classes        \n",
        "        self.rnn = torch.nn.GRU(input_size=input_size,\n",
        "                       hidden_size=hidden_size,\n",
        "                       num_layers=num_layers,\n",
        "                       dropout=dropout,\n",
        "                       bidirectional=bidirectional)\n",
        "        \n",
        "        fc_in = hidden_size if not bidirectional else 2 * hidden_size\n",
        "        self.fc = torch.nn.Linear(in_features=fc_in,\n",
        "                         out_features=num_classes)\n",
        "    \n",
        "    def _init_hidden_(self, batch_size):\n",
        "        \"\"\"Initialize new tensor of zeroes for RNN hidden state.\n",
        "        Accepts batch size.\n",
        "        Returns tensor of zeros shaped (num_layers * num_directions, batch, hidden_size).\n",
        "        \"\"\"\n",
        "        num_directions = 2 if self.rnn.bidirectional else 1\n",
        "        return torch.zeros(self.rnn.num_layers * num_directions, batch_size, self.rnn.hidden_size)\n",
        "        \n",
        "    def _prepare_features_(self, x):\n",
        "        \"\"\"Change dimensions of x to fit RNN expected input.\n",
        "        Accepts tensor x shaped (B x (C=1) x H x W).\n",
        "        Returns new tensor shaped (W x B x H).\n",
        "        \"\"\"\n",
        "        x = x.squeeze(1)\n",
        "        x = x.permute(2, 0, 1)\n",
        "        return x\n",
        "    \n",
        "    def forward(self, x):\n",
        "        x = self._prepare_features_(x)\n",
        "        \n",
        "        batch_size = x.size(1)\n",
        "        h_0 = self._init_hidden_(batch_size)\n",
        "        h_0 = h_0.to(x.device)\n",
        "        x, h = self.rnn(x, h_0)\n",
        "        \n",
        "        x = self.fc(x)\n",
        "        return x"
      ],
      "execution_count": null,
      "outputs": []
    },
    {
      "cell_type": "code",
      "metadata": {
        "id": "TdZih3GpjX4w",
        "colab_type": "code",
        "colab": {}
      },
      "source": [
        "class CRNN(torch.nn.Module):\n",
        "    \n",
        "    def __init__(\n",
        "        self, \n",
        "        alphabet=alphabet,\n",
        "        cnn_input_size=(64, 320), \n",
        "        cnn_output_len=20,\n",
        "        rnn_hidden_size=128, \n",
        "        rnn_num_layers=2, \n",
        "        rnn_dropout=0.3, \n",
        "        rnn_bidirectional=True\n",
        "    ):\n",
        "        super(CRNN, self).__init__()\n",
        "        self.alphabet = alphabet\n",
        "        \n",
        "        self.features_extractor = FeatureExtractor(\n",
        "            input_size=cnn_input_size, \n",
        "            output_len=cnn_output_len\n",
        "        )\n",
        "        # print(self.features_extractor.num_output_features)\n",
        "        self.sequence_predictor = SequencePredictor(\n",
        "            input_size=self.features_extractor.num_output_features,\n",
        "            hidden_size=rnn_hidden_size, \n",
        "            num_layers=rnn_num_layers,\n",
        "            num_classes=(len(alphabet) + 1), \n",
        "            dropout=rnn_dropout,\n",
        "            bidirectional=rnn_bidirectional\n",
        "        )\n",
        "    \n",
        "    def forward(self, x):\n",
        "        features = self.features_extractor(x)\n",
        "        sequence = self.sequence_predictor(features)\n",
        "        return sequence"
      ],
      "execution_count": null,
      "outputs": []
    },
    {
      "cell_type": "code",
      "metadata": {
        "id": "lDxntEzHj0aI",
        "colab_type": "code",
        "colab": {}
      },
      "source": [
        "def pred_to_string(pred, abc):\n",
        "    seq = []\n",
        "    for i in range(len(pred)):\n",
        "        label = np.argmax(pred[i])\n",
        "        seq.append(label - 1)\n",
        "    out = []\n",
        "    for i in range(len(seq)):\n",
        "        if len(out) == 0:\n",
        "            if seq[i] != -1:\n",
        "                out.append(seq[i])\n",
        "        else:\n",
        "            if seq[i] != -1 and seq[i] != seq[i - 1]:\n",
        "                out.append(seq[i])\n",
        "    out = ''.join([abc[c] for c in out])\n",
        "    return out\n",
        "\n",
        "def decode(pred, abc):\n",
        "    pred = pred.permute(1, 0, 2).cpu().data.numpy()\n",
        "    outputs = []\n",
        "    for i in range(len(pred)):\n",
        "        outputs.append(pred_to_string(pred[i], abc))\n",
        "    return outputs"
      ],
      "execution_count": null,
      "outputs": []
    },
    {
      "cell_type": "markdown",
      "metadata": {
        "id": "BYEE52Qh_a5X",
        "colab_type": "text"
      },
      "source": [
        "### Working"
      ]
    },
    {
      "cell_type": "code",
      "metadata": {
        "id": "lFyS8YZYkf4y",
        "colab_type": "code",
        "colab": {}
      },
      "source": [
        "crnn = CRNN()\n",
        "crnn.to(device);"
      ],
      "execution_count": null,
      "outputs": []
    },
    {
      "cell_type": "code",
      "metadata": {
        "id": "3FLAMLLZ69MD",
        "colab_type": "code",
        "colab": {}
      },
      "source": [
        "optimizer = torch.optim.Adam(crnn.parameters(), lr=3e-4, amsgrad=True, weight_decay=1e-5)\n",
        "scheduler = torch.optim.lr_scheduler.ReduceLROnPlateau(optimizer, patience=10, factor=0.5, verbose=True)"
      ],
      "execution_count": null,
      "outputs": []
    },
    {
      "cell_type": "code",
      "metadata": {
        "id": "3uS1gellkjpw",
        "colab_type": "code",
        "colab": {}
      },
      "source": [
        "crnn.train()\n",
        "for epoch in range(2):\n",
        "    epoch_losses = []\n",
        "    print_loss = []\n",
        "    \n",
        "    for i, batch in enumerate(tqdm(train_ocr_loader, total=len(train_ocr_loader), leave=False, position=0)):\n",
        "        images = batch[\"image\"].to(device)\n",
        "        seqs_gt = batch[\"seq\"]\n",
        "        seq_lens_gt = batch[\"seq_len\"]\n",
        "\n",
        "        seqs_pred = crnn(images).cpu()\n",
        "        log_probs = torch.nn.functional.log_softmax(seqs_pred, dim=2)\n",
        "        seq_lens_pred = torch.Tensor([seqs_pred.size(0)] * seqs_pred.size(1)).int()\n",
        "\n",
        "        loss = torch.nn.functional.ctc_loss(\n",
        "            log_probs=log_probs,  # (T, N, C)\n",
        "            targets=seqs_gt,  # N, S or sum(target_lengths)\n",
        "            input_lengths=seq_lens_pred,  # N\n",
        "            target_lengths=seq_lens_gt # N\n",
        "        )  \n",
        "\n",
        "        optimizer.zero_grad()\n",
        "        loss.backward()\n",
        "        torch.nn.utils.clip_grad_norm_(crnn.parameters(), 10.0)\n",
        "        optimizer.step()\n",
        "\n",
        "        print_loss.append(loss.item())\n",
        "        if (i + 1) % 20 == 0:\n",
        "            mean_loss = np.mean(print_loss)\n",
        "            print(f'Loss: {mean_loss:.7f}')\n",
        "            scheduler.step(mean_loss)\n",
        "            print_loss = [] \n",
        "    \n",
        "        epoch_losses.append(loss.item())\n",
        "\n",
        "    print(i, np.mean(epoch_losses))\n",
        "    torch.save(model.state_dict(), f'CRNN_epoch_{epoch + 1}.pth')"
      ],
      "execution_count": null,
      "outputs": []
    },
    {
      "cell_type": "code",
      "metadata": {
        "id": "ka5YMrn0PxqS",
        "colab_type": "code",
        "colab": {}
      },
      "source": [
        "# torch.save(model.state_dict(), f'CRNN_epoch_{3}.pth')"
      ],
      "execution_count": null,
      "outputs": []
    },
    {
      "cell_type": "code",
      "metadata": {
        "id": "peDuB2w8P6ae",
        "colab_type": "code",
        "colab": {
          "base_uri": "https://localhost:8080/",
          "height": 17,
          "referenced_widgets": [
            "027acb1a2c6a42389507d2c14e163322",
            "179da08069c24230b2cd0b7a30d5b3c3",
            "6063bc993cd04735a1fdd6a554abeea6",
            "032c046b97d14b36ad2817cf1de0b3a9",
            "a8b5d898f5374d599b6c4d18df099307",
            "029bd410ba074aa2b9cb003ea8529788",
            "ad1fd1b2c50b40d3ac201dcd269a51b7",
            "f84356b8319a4450b26b4b331aaa3f75"
          ]
        },
        "outputId": "8345ad62-f11a-43e2-dc41-5a0780bd78ff"
      },
      "source": [
        "test_marks = load_json(os.path.join(PATH_TO_DATA, 'test.json'))\n",
        "crnn.eval()\n",
        "resizer = Resize()\n",
        "\n",
        "file_name_result = [] \n",
        "plates_string_result = []\n",
        "\n",
        "for item in tqdm(test_marks, leave=False, position=0):\n",
        "\n",
        "    img_path = item[\"file\"]\n",
        "    img = cv2.imread(img_path)\n",
        "\n",
        "    results_to_sort = []\n",
        "    for box in item['nums']:\n",
        "        x_min, y_min, x_max, y_max = box['bbox']\n",
        "        img_bbox = resizer(img[y_min:y_max, x_min:x_max])\n",
        "        img_bbox = img_transforms(img_bbox)\n",
        "        img_bbox = img_bbox.unsqueeze(0)\n",
        "\n",
        "\n",
        "        points = np.clip(np.array(box['box']), 0, None)\n",
        "        img_polygon = resizer(four_point_transform(img, points))\n",
        "        img_polygon = img_transforms(img_polygon)\n",
        "        img_polygon = img_polygon.unsqueeze(0)\n",
        "\n",
        "        preds_bbox = crnn(img_bbox.to(device)).cpu().detach()\n",
        "        preds_poly = crnn(img_polygon.to(device)).cpu().detach()\n",
        "\n",
        "        preds = preds_poly + preds_bbox\n",
        "        num_text = decode(preds, alphabet)[0]\n",
        "\n",
        "        results_to_sort.append((x_min, num_text))\n",
        "\n",
        "    results = sorted(results_to_sort, key=lambda x: x[0])\n",
        "    num_list = [x[1] for x in results]\n",
        "\n",
        "    plates_string = ' '.join(num_list)\n",
        "    file_name = img_path[img_path.find('test/'):]\n",
        "\n",
        "    file_name_result.append(file_name)\n",
        "    plates_string_result.append(plates_string)"
      ],
      "execution_count": null,
      "outputs": [
        {
          "output_type": "display_data",
          "data": {
            "application/vnd.jupyter.widget-view+json": {
              "model_id": "027acb1a2c6a42389507d2c14e163322",
              "version_minor": 0,
              "version_major": 2
            },
            "text/plain": [
              "HBox(children=(FloatProgress(value=0.0, max=3188.0), HTML(value='')))"
            ]
          },
          "metadata": {
            "tags": []
          }
        },
        {
          "output_type": "stream",
          "text": [
            "\r"
          ],
          "name": "stdout"
        }
      ]
    },
    {
      "cell_type": "code",
      "metadata": {
        "id": "AdxZTKtvs9Ke",
        "colab_type": "code",
        "colab": {}
      },
      "source": [
        "import pandas as pd\n",
        "\n",
        "df_submit = pd.DataFrame({'file_name': file_name_result, 'plates_string': plates_string_result}).set_index('file_name')"
      ],
      "execution_count": null,
      "outputs": []
    },
    {
      "cell_type": "markdown",
      "metadata": {
        "id": "65Rz58_C0s_Z",
        "colab_type": "text"
      },
      "source": [
        "# Visualize submission"
      ]
    },
    {
      "cell_type": "code",
      "metadata": {
        "id": "Ul3TzxKrqQ9t",
        "colab_type": "code",
        "colab": {}
      },
      "source": [
        "random_idxs = np.random.choice(len(test_images), size=min(NUM_IMAGES_TO_SHOW, len(test_images)), replace=False)\n",
        "\n",
        "font = {'family': 'serif',\n",
        "        'color':  'white',\n",
        "        'weight': 'normal',\n",
        "        'size': 22,\n",
        "        }\n",
        "\n",
        "\n",
        "def draw_bbox_pred(predictions, idx):\n",
        "    img = plt.imread(predictions[idx]['file'], 0)\n",
        "    for num in predictions[idx]['nums']:\n",
        "        bbox = np.array([num['box'][0],\n",
        "                         num['box'][2],\n",
        "                         num['box'][1],\n",
        "                         num['box'][3]])\n",
        "        cv2.polylines(img, [bbox], True, (255,0,0), 3)\n",
        "    return(img)\n",
        "\n",
        "plt.figure(figsize=(25, NUM_ROWS * 8))\n",
        "for i, idx in enumerate(random_idxs, 1):\n",
        "    image = plt.imread(os.path.join(PATH_TO_DATA, df_submit['file_name'][idx]))\n",
        "    plt.subplot(NUM_ROWS, NUM_COLS, i)\n",
        "    title = df_submit['plates_string'][idx]\n",
        "    plt.title(title, fontdict=font)\n",
        "    plt.imshow(image)\n",
        "\n",
        "plt.tight_layout()\n",
        "plt.show()"
      ],
      "execution_count": null,
      "outputs": []
    },
    {
      "cell_type": "markdown",
      "metadata": {
        "id": "Ujus-F7W6cRi",
        "colab_type": "text"
      },
      "source": [
        "# Work with duplicates"
      ]
    },
    {
      "cell_type": "code",
      "metadata": {
        "id": "oU5tH9mMxTpa",
        "colab_type": "code",
        "colab": {
          "base_uri": "https://localhost:8080/",
          "height": 419
        },
        "outputId": "ec2b8b4b-c489-4789-88e8-8ef34c6c9006"
      },
      "source": [
        "duplicates = pd.read_csv('out.csv', index_col=0)\n",
        "duplicates.drop(columns=['11', '12', '13', '14', '15', '16', '17'],\n",
        "                inplace=True)\n",
        "for column in duplicates.columns:\n",
        "    duplicates[column].replace(r'\\s*\\\\', '/', regex=True, inplace=True)\n",
        "duplicates.head(150)"
      ],
      "execution_count": null,
      "outputs": [
        {
          "output_type": "execute_result",
          "data": {
            "text/html": [
              "<div>\n",
              "<style scoped>\n",
              "    .dataframe tbody tr th:only-of-type {\n",
              "        vertical-align: middle;\n",
              "    }\n",
              "\n",
              "    .dataframe tbody tr th {\n",
              "        vertical-align: top;\n",
              "    }\n",
              "\n",
              "    .dataframe thead th {\n",
              "        text-align: right;\n",
              "    }\n",
              "</style>\n",
              "<table border=\"1\" class=\"dataframe\">\n",
              "  <thead>\n",
              "    <tr style=\"text-align: right;\">\n",
              "      <th></th>\n",
              "      <th>0</th>\n",
              "      <th>1</th>\n",
              "      <th>2</th>\n",
              "      <th>3</th>\n",
              "      <th>4</th>\n",
              "      <th>5</th>\n",
              "      <th>6</th>\n",
              "      <th>7</th>\n",
              "      <th>8</th>\n",
              "      <th>9</th>\n",
              "      <th>10</th>\n",
              "    </tr>\n",
              "  </thead>\n",
              "  <tbody>\n",
              "    <tr>\n",
              "      <th>0</th>\n",
              "      <td>test/1003.jpeg</td>\n",
              "      <td>test/2575.jpeg</td>\n",
              "      <td>NaN</td>\n",
              "      <td>NaN</td>\n",
              "      <td>NaN</td>\n",
              "      <td>NaN</td>\n",
              "      <td>NaN</td>\n",
              "      <td>NaN</td>\n",
              "      <td>NaN</td>\n",
              "      <td>NaN</td>\n",
              "      <td>NaN</td>\n",
              "    </tr>\n",
              "    <tr>\n",
              "      <th>1</th>\n",
              "      <td>test/1021.bmp</td>\n",
              "      <td>train/24646.bmp</td>\n",
              "      <td>NaN</td>\n",
              "      <td>NaN</td>\n",
              "      <td>NaN</td>\n",
              "      <td>NaN</td>\n",
              "      <td>NaN</td>\n",
              "      <td>NaN</td>\n",
              "      <td>NaN</td>\n",
              "      <td>NaN</td>\n",
              "      <td>NaN</td>\n",
              "    </tr>\n",
              "    <tr>\n",
              "      <th>2</th>\n",
              "      <td>test/1023.bmp</td>\n",
              "      <td>train/21968.bmp</td>\n",
              "      <td>NaN</td>\n",
              "      <td>NaN</td>\n",
              "      <td>NaN</td>\n",
              "      <td>NaN</td>\n",
              "      <td>NaN</td>\n",
              "      <td>NaN</td>\n",
              "      <td>NaN</td>\n",
              "      <td>NaN</td>\n",
              "      <td>NaN</td>\n",
              "    </tr>\n",
              "    <tr>\n",
              "      <th>3</th>\n",
              "      <td>test/1047.bmp</td>\n",
              "      <td>train/5782.bmp</td>\n",
              "      <td>NaN</td>\n",
              "      <td>NaN</td>\n",
              "      <td>NaN</td>\n",
              "      <td>NaN</td>\n",
              "      <td>NaN</td>\n",
              "      <td>NaN</td>\n",
              "      <td>NaN</td>\n",
              "      <td>NaN</td>\n",
              "      <td>NaN</td>\n",
              "    </tr>\n",
              "    <tr>\n",
              "      <th>4</th>\n",
              "      <td>test/1060.bmp</td>\n",
              "      <td>train/13592.bmp</td>\n",
              "      <td>NaN</td>\n",
              "      <td>NaN</td>\n",
              "      <td>NaN</td>\n",
              "      <td>NaN</td>\n",
              "      <td>NaN</td>\n",
              "      <td>NaN</td>\n",
              "      <td>NaN</td>\n",
              "      <td>NaN</td>\n",
              "      <td>NaN</td>\n",
              "    </tr>\n",
              "    <tr>\n",
              "      <th>...</th>\n",
              "      <td>...</td>\n",
              "      <td>...</td>\n",
              "      <td>...</td>\n",
              "      <td>...</td>\n",
              "      <td>...</td>\n",
              "      <td>...</td>\n",
              "      <td>...</td>\n",
              "      <td>...</td>\n",
              "      <td>...</td>\n",
              "      <td>...</td>\n",
              "      <td>...</td>\n",
              "    </tr>\n",
              "    <tr>\n",
              "      <th>145</th>\n",
              "      <td>test/804.bmp</td>\n",
              "      <td>train/19057.bmp</td>\n",
              "      <td>NaN</td>\n",
              "      <td>NaN</td>\n",
              "      <td>NaN</td>\n",
              "      <td>NaN</td>\n",
              "      <td>NaN</td>\n",
              "      <td>NaN</td>\n",
              "      <td>NaN</td>\n",
              "      <td>NaN</td>\n",
              "      <td>NaN</td>\n",
              "    </tr>\n",
              "    <tr>\n",
              "      <th>146</th>\n",
              "      <td>test/825.bmp</td>\n",
              "      <td>train/1181.bmp</td>\n",
              "      <td>NaN</td>\n",
              "      <td>NaN</td>\n",
              "      <td>NaN</td>\n",
              "      <td>NaN</td>\n",
              "      <td>NaN</td>\n",
              "      <td>NaN</td>\n",
              "      <td>NaN</td>\n",
              "      <td>NaN</td>\n",
              "      <td>NaN</td>\n",
              "    </tr>\n",
              "    <tr>\n",
              "      <th>147</th>\n",
              "      <td>test/837.bmp</td>\n",
              "      <td>train/5264.bmp</td>\n",
              "      <td>NaN</td>\n",
              "      <td>NaN</td>\n",
              "      <td>NaN</td>\n",
              "      <td>NaN</td>\n",
              "      <td>NaN</td>\n",
              "      <td>NaN</td>\n",
              "      <td>NaN</td>\n",
              "      <td>NaN</td>\n",
              "      <td>NaN</td>\n",
              "    </tr>\n",
              "    <tr>\n",
              "      <th>148</th>\n",
              "      <td>test/843.bmp</td>\n",
              "      <td>train/11215.bmp</td>\n",
              "      <td>train/12159.bmp</td>\n",
              "      <td>train/24719.bmp</td>\n",
              "      <td>train/2942.bmp</td>\n",
              "      <td>NaN</td>\n",
              "      <td>NaN</td>\n",
              "      <td>NaN</td>\n",
              "      <td>NaN</td>\n",
              "      <td>NaN</td>\n",
              "      <td>NaN</td>\n",
              "    </tr>\n",
              "    <tr>\n",
              "      <th>149</th>\n",
              "      <td>test/875.bmp</td>\n",
              "      <td>train/2091.bmp</td>\n",
              "      <td>NaN</td>\n",
              "      <td>NaN</td>\n",
              "      <td>NaN</td>\n",
              "      <td>NaN</td>\n",
              "      <td>NaN</td>\n",
              "      <td>NaN</td>\n",
              "      <td>NaN</td>\n",
              "      <td>NaN</td>\n",
              "      <td>NaN</td>\n",
              "    </tr>\n",
              "  </tbody>\n",
              "</table>\n",
              "<p>150 rows × 11 columns</p>\n",
              "</div>"
            ],
            "text/plain": [
              "                  0                1                2  ...    8    9   10\n",
              "0    test/1003.jpeg   test/2575.jpeg              NaN  ...  NaN  NaN  NaN\n",
              "1     test/1021.bmp  train/24646.bmp              NaN  ...  NaN  NaN  NaN\n",
              "2     test/1023.bmp  train/21968.bmp              NaN  ...  NaN  NaN  NaN\n",
              "3     test/1047.bmp   train/5782.bmp              NaN  ...  NaN  NaN  NaN\n",
              "4     test/1060.bmp  train/13592.bmp              NaN  ...  NaN  NaN  NaN\n",
              "..              ...              ...              ...  ...  ...  ...  ...\n",
              "145    test/804.bmp  train/19057.bmp              NaN  ...  NaN  NaN  NaN\n",
              "146    test/825.bmp   train/1181.bmp              NaN  ...  NaN  NaN  NaN\n",
              "147    test/837.bmp   train/5264.bmp              NaN  ...  NaN  NaN  NaN\n",
              "148    test/843.bmp  train/11215.bmp  train/12159.bmp  ...  NaN  NaN  NaN\n",
              "149    test/875.bmp   train/2091.bmp              NaN  ...  NaN  NaN  NaN\n",
              "\n",
              "[150 rows x 11 columns]"
            ]
          },
          "metadata": {
            "tags": []
          },
          "execution_count": 82
        }
      ]
    },
    {
      "cell_type": "code",
      "metadata": {
        "id": "igvyFwhdR5SI",
        "colab_type": "code",
        "colab": {
          "base_uri": "https://localhost:8080/",
          "height": 49
        },
        "outputId": "4d0d0cb6-fa8e-47dc-fc57-9528f8016ec7"
      },
      "source": [
        "duplicates[duplicates['2'] == 'test/930.jpg']"
      ],
      "execution_count": null,
      "outputs": [
        {
          "output_type": "execute_result",
          "data": {
            "text/html": [
              "<div>\n",
              "<style scoped>\n",
              "    .dataframe tbody tr th:only-of-type {\n",
              "        vertical-align: middle;\n",
              "    }\n",
              "\n",
              "    .dataframe tbody tr th {\n",
              "        vertical-align: top;\n",
              "    }\n",
              "\n",
              "    .dataframe thead th {\n",
              "        text-align: right;\n",
              "    }\n",
              "</style>\n",
              "<table border=\"1\" class=\"dataframe\">\n",
              "  <thead>\n",
              "    <tr style=\"text-align: right;\">\n",
              "      <th></th>\n",
              "      <th>0</th>\n",
              "      <th>1</th>\n",
              "      <th>2</th>\n",
              "      <th>3</th>\n",
              "      <th>4</th>\n",
              "      <th>5</th>\n",
              "      <th>6</th>\n",
              "      <th>7</th>\n",
              "      <th>8</th>\n",
              "      <th>9</th>\n",
              "      <th>10</th>\n",
              "    </tr>\n",
              "  </thead>\n",
              "  <tbody>\n",
              "  </tbody>\n",
              "</table>\n",
              "</div>"
            ],
            "text/plain": [
              "Empty DataFrame\n",
              "Columns: [0, 1, 2, 3, 4, 5, 6, 7, 8, 9, 10]\n",
              "Index: []"
            ]
          },
          "metadata": {
            "tags": []
          },
          "execution_count": 107
        }
      ]
    },
    {
      "cell_type": "code",
      "metadata": {
        "id": "H3BGzVjpKhAl",
        "colab_type": "code",
        "colab": {
          "base_uri": "https://localhost:8080/",
          "height": 34
        },
        "outputId": "e788a8f5-63b8-447c-af60-c787a4e4ca80"
      },
      "source": [
        "for_delete = []\n",
        "duplicates.fillna('NAN', inplace=True)\n",
        "for column in duplicates.columns[:0:-1]:\n",
        "    for ind, file_name in enumerate(duplicates[column].values):\n",
        "        num_of_col = int(column)\n",
        "        if duplicates.loc[ind, column].startswith('train') \\\n",
        "            and duplicates.loc[ind, str(num_of_col - 1)].startswith('train'):\n",
        "            for_delete.append(duplicates.loc[ind, column])\n",
        "\n",
        "len(for_delete)"
      ],
      "execution_count": null,
      "outputs": [
        {
          "output_type": "execute_result",
          "data": {
            "text/plain": [
              "779"
            ]
          },
          "metadata": {
            "tags": []
          },
          "execution_count": 83
        }
      ]
    },
    {
      "cell_type": "code",
      "metadata": {
        "id": "rIV_YecvPyo1",
        "colab_type": "code",
        "colab": {}
      },
      "source": [
        "import pickle\n",
        "\n",
        "pickle.dump(for_delete, open( \"bad_file_names.pkl\", \"wb\" ))"
      ],
      "execution_count": null,
      "outputs": []
    },
    {
      "cell_type": "code",
      "metadata": {
        "id": "WP6o5MgWx5Bk",
        "colab_type": "code",
        "colab": {
          "base_uri": "https://localhost:8080/",
          "height": 132,
          "referenced_widgets": [
            "06c1de5914a3457f89e470cdbac96eea",
            "5b5aa32d9785428fa8fbe3eb29f14305",
            "52c1270c630441a9b857eb9ea90fbb61",
            "c7f1856e5073436a823397a005f1ca44",
            "47f4b263d31f4c62875066c788a2cebd",
            "b94d54749da5475e995fb75ede53e6cc",
            "b56358c929674c7494135bc8f011f22d",
            "10e4afb20b32403cb55d306c5a030a49",
            "e10ef16e8d75464d982d02e588486c41",
            "e848d00a2061408e8994ef182229aafb",
            "97cd704b2f4942e886a42235a7793e93",
            "5396e2b17c6e431fb3fcf0f0ac7cb94f",
            "e09a20c6da1f49159728cd8d3089ed91",
            "9236b26a454545f9adf1beefd9c1162e",
            "22fb83b188c54b29b020cbed1497f50c",
            "1d820690799c44eba2df5e9ebd12a646"
          ]
        },
        "outputId": "7408b4f0-8300-4261-96d7-2121f87eed2f"
      },
      "source": [
        "for_check = []\n",
        "for img_path in tqdm(duplicates['0'].values):\n",
        "    if img_path.startswith('test'):\n",
        "        for_check.append(img_path)\n",
        "\n",
        "for img_path in tqdm(duplicates['1'].values):\n",
        "    if img_path.startswith('test'):\n",
        "        for_check.append(img_path)\n",
        "len(for_check)"
      ],
      "execution_count": null,
      "outputs": [
        {
          "output_type": "display_data",
          "data": {
            "application/vnd.jupyter.widget-view+json": {
              "model_id": "06c1de5914a3457f89e470cdbac96eea",
              "version_minor": 0,
              "version_major": 2
            },
            "text/plain": [
              "HBox(children=(FloatProgress(value=0.0, max=713.0), HTML(value='')))"
            ]
          },
          "metadata": {
            "tags": []
          }
        },
        {
          "output_type": "stream",
          "text": [
            "\n"
          ],
          "name": "stdout"
        },
        {
          "output_type": "display_data",
          "data": {
            "application/vnd.jupyter.widget-view+json": {
              "model_id": "e10ef16e8d75464d982d02e588486c41",
              "version_minor": 0,
              "version_major": 2
            },
            "text/plain": [
              "HBox(children=(FloatProgress(value=0.0, max=713.0), HTML(value='')))"
            ]
          },
          "metadata": {
            "tags": []
          }
        },
        {
          "output_type": "stream",
          "text": [
            "\n"
          ],
          "name": "stdout"
        },
        {
          "output_type": "execute_result",
          "data": {
            "text/plain": [
              "171"
            ]
          },
          "metadata": {
            "tags": []
          },
          "execution_count": 85
        }
      ]
    },
    {
      "cell_type": "code",
      "metadata": {
        "id": "ePr_ct6S0281",
        "colab_type": "code",
        "colab": {}
      },
      "source": [
        "def find_file(file_name):\n",
        "    for i in range(len(j_file)):\n",
        "        if j_file[i]['file'] == os.path.join(PATH_TO_DATA, file_name):\n",
        "            text = ' '.join([num['text'] for num in j_file[i]['nums']])\n",
        "            return text"
      ],
      "execution_count": null,
      "outputs": []
    },
    {
      "cell_type": "code",
      "metadata": {
        "id": "avR-B4ol2qLW",
        "colab_type": "code",
        "colab": {
          "base_uri": "https://localhost:8080/",
          "height": 66,
          "referenced_widgets": [
            "004e399896334d01b267af791f43f10b",
            "7dbb0b7a8d4b434c98cab06c44a4b32d",
            "b34b6ba2d0334dbeacd89fdeb361b8a0",
            "c3826c26f782482a83b7f3df418e8f9b",
            "56998599b0044d0e84f900aef36a6166",
            "3fef49f933214c078770bf3632fab21e",
            "030590d2c023456eb49127d442c76a5d",
            "4eb4a8fddbe148b8ad383e5684f13b3b"
          ]
        },
        "outputId": "e8d66927-c7dd-40d1-dd96-8fad9e830495"
      },
      "source": [
        "result = []\n",
        "for i in tqdm(range(duplicates.shape[0])):\n",
        "    if duplicates.loc[i, '0'].startswith('test')  and duplicates.loc[i, '1'].startswith('train'):\n",
        "        result.append([duplicates.loc[i, '0'],\n",
        "                      find_file(duplicates.loc[i, '1'])])\n",
        "    elif duplicates.loc[i, '1'].startswith('test')  and duplicates.loc[i, '2'].startswith('train'):\n",
        "      result.append([duplicates.loc[i, '1'],\n",
        "                      find_file(duplicates.loc[i, '2'])])"
      ],
      "execution_count": null,
      "outputs": [
        {
          "output_type": "display_data",
          "data": {
            "application/vnd.jupyter.widget-view+json": {
              "model_id": "004e399896334d01b267af791f43f10b",
              "version_minor": 0,
              "version_major": 2
            },
            "text/plain": [
              "HBox(children=(FloatProgress(value=0.0, max=713.0), HTML(value='')))"
            ]
          },
          "metadata": {
            "tags": []
          }
        },
        {
          "output_type": "stream",
          "text": [
            "\n"
          ],
          "name": "stdout"
        }
      ]
    },
    {
      "cell_type": "code",
      "metadata": {
        "id": "cET58KHULfJr",
        "colab_type": "code",
        "colab": {}
      },
      "source": [
        "true_nums = pd.DataFrame(columns=['file_name', 'plates_string'], data=result).set_index(['file_name'])"
      ],
      "execution_count": null,
      "outputs": []
    },
    {
      "cell_type": "code",
      "metadata": {
        "id": "GpqLNyctLh1j",
        "colab_type": "code",
        "colab": {}
      },
      "source": [
        "df_submit.update(true_nums)\n",
        "df_submit[df_submit['plates_string'].isna()]\n",
        "df_submit = df_submit.reset_index()"
      ],
      "execution_count": null,
      "outputs": []
    },
    {
      "cell_type": "markdown",
      "metadata": {
        "id": "8EsslWZUKVSs",
        "colab_type": "text"
      },
      "source": [
        "# Save predictions"
      ]
    },
    {
      "cell_type": "code",
      "metadata": {
        "id": "gIKL5UNILctb",
        "colab_type": "code",
        "colab": {}
      },
      "source": [
        "df_submit.to_csv('submission_bidirect_resnet18_without_dup_greyscale.csv', index=False)"
      ],
      "execution_count": null,
      "outputs": []
    },
    {
      "cell_type": "code",
      "metadata": {
        "id": "Md8UhPBPLrvk",
        "colab_type": "code",
        "colab": {
          "base_uri": "https://localhost:8080/",
          "height": 204
        },
        "outputId": "920819b3-0ada-4888-b711-1d2a18a66474"
      },
      "source": [
        "# df_submit.drop(columns=['index'], inplace=True)\n",
        "df_submit.head()"
      ],
      "execution_count": null,
      "outputs": [
        {
          "output_type": "execute_result",
          "data": {
            "text/html": [
              "<div>\n",
              "<style scoped>\n",
              "    .dataframe tbody tr th:only-of-type {\n",
              "        vertical-align: middle;\n",
              "    }\n",
              "\n",
              "    .dataframe tbody tr th {\n",
              "        vertical-align: top;\n",
              "    }\n",
              "\n",
              "    .dataframe thead th {\n",
              "        text-align: right;\n",
              "    }\n",
              "</style>\n",
              "<table border=\"1\" class=\"dataframe\">\n",
              "  <thead>\n",
              "    <tr style=\"text-align: right;\">\n",
              "      <th></th>\n",
              "      <th>file_name</th>\n",
              "      <th>plates_string</th>\n",
              "    </tr>\n",
              "  </thead>\n",
              "  <tbody>\n",
              "    <tr>\n",
              "      <th>0</th>\n",
              "      <td>test/457.jpg</td>\n",
              "      <td>X005HO54</td>\n",
              "    </tr>\n",
              "    <tr>\n",
              "      <th>1</th>\n",
              "      <td>test/2498.jpg</td>\n",
              "      <td>H118HM69</td>\n",
              "    </tr>\n",
              "    <tr>\n",
              "      <th>2</th>\n",
              "      <td>test/884.bmp</td>\n",
              "      <td>A316YA35</td>\n",
              "    </tr>\n",
              "    <tr>\n",
              "      <th>3</th>\n",
              "      <td>test/2201.jpg</td>\n",
              "      <td>A982KA174</td>\n",
              "    </tr>\n",
              "    <tr>\n",
              "      <th>4</th>\n",
              "      <td>test/2666.bmp</td>\n",
              "      <td>K444OM98</td>\n",
              "    </tr>\n",
              "  </tbody>\n",
              "</table>\n",
              "</div>"
            ],
            "text/plain": [
              "       file_name plates_string\n",
              "0   test/457.jpg      X005HO54\n",
              "1  test/2498.jpg      H118HM69\n",
              "2   test/884.bmp      A316YA35\n",
              "3  test/2201.jpg     A982KA174\n",
              "4  test/2666.bmp      K444OM98"
            ]
          },
          "metadata": {
            "tags": []
          },
          "execution_count": 91
        }
      ]
    },
    {
      "cell_type": "markdown",
      "metadata": {
        "id": "i36sKpYHiFpl",
        "colab_type": "text"
      },
      "source": [
        "# Filter csv"
      ]
    },
    {
      "cell_type": "code",
      "metadata": {
        "id": "VgJS9BRBOnGs",
        "colab_type": "code",
        "colab": {
          "base_uri": "https://localhost:8080/",
          "height": 235
        },
        "outputId": "14cf39e4-2411-40ba-9d7f-9bd698f30d28"
      },
      "source": [
        "import pandas as pd\n",
        "\n",
        "fin = pd.read_csv('submission_bidirect_resnet18_without_dup_greyscale.csv', sep=';', index_col=0)\n",
        "fin.head()"
      ],
      "execution_count": null,
      "outputs": [
        {
          "output_type": "execute_result",
          "data": {
            "text/html": [
              "<div>\n",
              "<style scoped>\n",
              "    .dataframe tbody tr th:only-of-type {\n",
              "        vertical-align: middle;\n",
              "    }\n",
              "\n",
              "    .dataframe tbody tr th {\n",
              "        vertical-align: top;\n",
              "    }\n",
              "\n",
              "    .dataframe thead th {\n",
              "        text-align: right;\n",
              "    }\n",
              "</style>\n",
              "<table border=\"1\" class=\"dataframe\">\n",
              "  <thead>\n",
              "    <tr style=\"text-align: right;\">\n",
              "      <th></th>\n",
              "      <th>plates_string</th>\n",
              "    </tr>\n",
              "    <tr>\n",
              "      <th>file_name</th>\n",
              "      <th></th>\n",
              "    </tr>\n",
              "  </thead>\n",
              "  <tbody>\n",
              "    <tr>\n",
              "      <th>test/999.bmp</th>\n",
              "      <td>Y519EB35</td>\n",
              "    </tr>\n",
              "    <tr>\n",
              "      <th>test/998.bmp</th>\n",
              "      <td>B117YB35</td>\n",
              "    </tr>\n",
              "    <tr>\n",
              "      <th>test/997.png</th>\n",
              "      <td>X580XX36 A0205P80 A4402P84</td>\n",
              "    </tr>\n",
              "    <tr>\n",
              "      <th>test/996.bmp</th>\n",
              "      <td>T013AO35</td>\n",
              "    </tr>\n",
              "    <tr>\n",
              "      <th>test/995.jpg</th>\n",
              "      <td>P367XO96</td>\n",
              "    </tr>\n",
              "  </tbody>\n",
              "</table>\n",
              "</div>"
            ],
            "text/plain": [
              "                           plates_string\n",
              "file_name                               \n",
              "test/999.bmp                    Y519EB35\n",
              "test/998.bmp                    B117YB35\n",
              "test/997.png  X580XX36 A0205P80 A4402P84\n",
              "test/996.bmp                    T013AO35\n",
              "test/995.jpg                    P367XO96"
            ]
          },
          "metadata": {
            "tags": []
          },
          "execution_count": 67
        }
      ]
    },
    {
      "cell_type": "code",
      "metadata": {
        "id": "xt7StBabibzl",
        "colab_type": "code",
        "colab": {
          "base_uri": "https://localhost:8080/",
          "height": 235
        },
        "outputId": "f294117a-1855-4ed2-f1b9-0ff53cb8ebdf"
      },
      "source": [
        "prev_best = pd.read_csv('submission_bidirect_without_dup.csv', index_col=0).sort_index(ascending=False)\n",
        "prev_best.head()"
      ],
      "execution_count": null,
      "outputs": [
        {
          "output_type": "execute_result",
          "data": {
            "text/html": [
              "<div>\n",
              "<style scoped>\n",
              "    .dataframe tbody tr th:only-of-type {\n",
              "        vertical-align: middle;\n",
              "    }\n",
              "\n",
              "    .dataframe tbody tr th {\n",
              "        vertical-align: top;\n",
              "    }\n",
              "\n",
              "    .dataframe thead th {\n",
              "        text-align: right;\n",
              "    }\n",
              "</style>\n",
              "<table border=\"1\" class=\"dataframe\">\n",
              "  <thead>\n",
              "    <tr style=\"text-align: right;\">\n",
              "      <th></th>\n",
              "      <th>plates_string</th>\n",
              "    </tr>\n",
              "    <tr>\n",
              "      <th>file_name</th>\n",
              "      <th></th>\n",
              "    </tr>\n",
              "  </thead>\n",
              "  <tbody>\n",
              "    <tr>\n",
              "      <th>test/999.bmp</th>\n",
              "      <td>Y519EB35</td>\n",
              "    </tr>\n",
              "    <tr>\n",
              "      <th>test/998.bmp</th>\n",
              "      <td>B117YB35</td>\n",
              "    </tr>\n",
              "    <tr>\n",
              "      <th>test/997.png</th>\n",
              "      <td>X580XX36 A20B90 A340B34</td>\n",
              "    </tr>\n",
              "    <tr>\n",
              "      <th>test/996.bmp</th>\n",
              "      <td>T013AO35</td>\n",
              "    </tr>\n",
              "    <tr>\n",
              "      <th>test/995.jpg</th>\n",
              "      <td>P367XO96</td>\n",
              "    </tr>\n",
              "  </tbody>\n",
              "</table>\n",
              "</div>"
            ],
            "text/plain": [
              "                        plates_string\n",
              "file_name                            \n",
              "test/999.bmp                 Y519EB35\n",
              "test/998.bmp                 B117YB35\n",
              "test/997.png  X580XX36 A20B90 A340B34\n",
              "test/996.bmp                 T013AO35\n",
              "test/995.jpg                 P367XO96"
            ]
          },
          "metadata": {
            "tags": []
          },
          "execution_count": 66
        }
      ]
    },
    {
      "cell_type": "code",
      "metadata": {
        "id": "9-A-62epkYRL",
        "colab_type": "code",
        "colab": {
          "base_uri": "https://localhost:8080/",
          "height": 269
        },
        "outputId": "9f01fb97-fab1-448c-cd1c-7703a8e91995"
      },
      "source": [
        "f = os.path.join(PATH_TO_DATA, 'test/1024.jpg')\n",
        "plt.imshow(plt.imread(f));"
      ],
      "execution_count": null,
      "outputs": [
        {
          "output_type": "display_data",
          "data": {
            "image/png": "[encoded data removed]",
            "text/plain": [
              "<Figure size 432x288 with 1 Axes>"
            ]
          },
          "metadata": {
            "tags": [],
            "needs_background": "light"
          }
        }
      ]
    },
    {
      "cell_type": "code",
      "metadata": {
        "id": "MWCN4SPotTR1",
        "colab_type": "code",
        "colab": {
          "base_uri": "https://localhost:8080/",
          "height": 204
        },
        "outputId": "6964bbdc-ebba-43c0-8794-dd52556138d4"
      },
      "source": [
        "tmp = pd.read_csv('submission_bidirect_resnet18_without_dup_greyscale_fin.csv', sep=';')\n",
        "tmp.head()"
      ],
      "execution_count": null,
      "outputs": [
        {
          "output_type": "execute_result",
          "data": {
            "text/html": [
              "<div>\n",
              "<style scoped>\n",
              "    .dataframe tbody tr th:only-of-type {\n",
              "        vertical-align: middle;\n",
              "    }\n",
              "\n",
              "    .dataframe tbody tr th {\n",
              "        vertical-align: top;\n",
              "    }\n",
              "\n",
              "    .dataframe thead th {\n",
              "        text-align: right;\n",
              "    }\n",
              "</style>\n",
              "<table border=\"1\" class=\"dataframe\">\n",
              "  <thead>\n",
              "    <tr style=\"text-align: right;\">\n",
              "      <th></th>\n",
              "      <th>file_name</th>\n",
              "      <th>plates_string</th>\n",
              "    </tr>\n",
              "  </thead>\n",
              "  <tbody>\n",
              "    <tr>\n",
              "      <th>0</th>\n",
              "      <td>test/999.bmp</td>\n",
              "      <td>Y519EB35</td>\n",
              "    </tr>\n",
              "    <tr>\n",
              "      <th>1</th>\n",
              "      <td>test/998.bmp</td>\n",
              "      <td>B117YB35</td>\n",
              "    </tr>\n",
              "    <tr>\n",
              "      <th>2</th>\n",
              "      <td>test/997.png</td>\n",
              "      <td>X580XX36 AY0205PO AH4402PH</td>\n",
              "    </tr>\n",
              "    <tr>\n",
              "      <th>3</th>\n",
              "      <td>test/996.bmp</td>\n",
              "      <td>T013AO35</td>\n",
              "    </tr>\n",
              "    <tr>\n",
              "      <th>4</th>\n",
              "      <td>test/995.jpg</td>\n",
              "      <td>P367XO96</td>\n",
              "    </tr>\n",
              "  </tbody>\n",
              "</table>\n",
              "</div>"
            ],
            "text/plain": [
              "      file_name               plates_string\n",
              "0  test/999.bmp                    Y519EB35\n",
              "1  test/998.bmp                    B117YB35\n",
              "2  test/997.png  X580XX36 AY0205PO AH4402PH\n",
              "3  test/996.bmp                    T013AO35\n",
              "4  test/995.jpg                    P367XO96"
            ]
          },
          "metadata": {
            "tags": []
          },
          "execution_count": 250
        }
      ]
    },
    {
      "cell_type": "code",
      "metadata": {
        "id": "XApOxL-0Ad7I",
        "colab_type": "code",
        "colab": {}
      },
      "source": [
        "tmp.to_csv('submission_bidirect_resnet18_without_dup_greyscale_fin_true.csv', index=False)"
      ],
      "execution_count": null,
      "outputs": []
    },
    {
      "cell_type": "code",
      "metadata": {
        "id": "iO5HDUyiCCsJ",
        "colab_type": "code",
        "colab": {}
      },
      "source": [
        ""
      ],
      "execution_count": null,
      "outputs": []
    }
  ]
}